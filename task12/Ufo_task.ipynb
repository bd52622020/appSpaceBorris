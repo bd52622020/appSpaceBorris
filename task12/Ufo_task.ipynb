{
 "cells": [
  {
   "cell_type": "code",
   "execution_count": 1,
   "metadata": {},
   "outputs": [],
   "source": [
    "import pandas as pd\n",
    "import numpy as np\n",
    "import math"
   ]
  },
  {
   "cell_type": "markdown",
   "metadata": {},
   "source": [
    "# 1) Calculate distance between two points"
   ]
  },
  {
   "cell_type": "code",
   "execution_count": 3,
   "metadata": {},
   "outputs": [],
   "source": [
    "def distance_cal():\n",
    "    radius = 6371\n",
    "    print(\"enter origin\")\n",
    "    lat1 = int(input(\"Enter latitude: \"))\n",
    "    lon1 = int(input(\"Enter longitude: \"))\n",
    "    print(\"enter destination\")\n",
    "    lat2 = int(input(\"Enter latitude: \"))\n",
    "    lon2 = int(input(\"Enter longitude: \"))\n",
    "    dlat = math.radians(lat2 - lat1)\n",
    "    dlon = math.radians(lon2 - lon1)\n",
    "    a = math.sin(math.sin(dlat/2) * math.sin(dlat/2) + math.cos(math.radians(lat1)) * math.cos(math.radians(lat2)) * math.sin(dlon/2) * math.sin(dlon/2))\n",
    "    c = 2 * math.atan2(math.sqrt(a), math.sqrt(1-a))\n",
    "    d = radius * c\n",
    "    print(d)\n",
    "    "
   ]
  },
  {
   "cell_type": "code",
   "execution_count": 4,
   "metadata": {},
   "outputs": [
    {
     "name": "stdout",
     "output_type": "stream",
     "text": [
      "enter origin\n",
      "Enter latitude: 50\n",
      "Enter longitude: 40\n",
      "enter destination\n",
      "Enter latitude: 50\n",
      "Enter longitude: 40\n",
      "0.0\n",
      "None\n"
     ]
    }
   ],
   "source": [
    "distance_cal()"
   ]
  },
  {
   "cell_type": "markdown",
   "metadata": {},
   "source": [
    "# 2) Standard deviation"
   ]
  },
  {
   "cell_type": "code",
   "execution_count": 9,
   "metadata": {},
   "outputs": [],
   "source": [
    "data = [4, 2, 5, 8, 6]"
   ]
  },
  {
   "cell_type": "code",
   "execution_count": 10,
   "metadata": {},
   "outputs": [],
   "source": [
    "def std_calc(data):\n",
    "    print(np.std(data))"
   ]
  },
  {
   "cell_type": "code",
   "execution_count": 11,
   "metadata": {
    "scrolled": true
   },
   "outputs": [
    {
     "name": "stdout",
     "output_type": "stream",
     "text": [
      "2.0\n"
     ]
    }
   ],
   "source": [
    "std_calc(data)"
   ]
  },
  {
   "cell_type": "markdown",
   "metadata": {},
   "source": [
    "# 3) Random values"
   ]
  },
  {
   "cell_type": "code",
   "execution_count": 16,
   "metadata": {},
   "outputs": [
    {
     "data": {
      "text/html": [
       "<style  type=\"text/css\" >\n",
       "    #T_0e25f944_b15a_11ea_91ab_08002715a539row0_col0 {\n",
       "            color:  red;\n",
       "        }    #T_0e25f944_b15a_11ea_91ab_08002715a539row0_col1 {\n",
       "            color:  black;\n",
       "        }    #T_0e25f944_b15a_11ea_91ab_08002715a539row0_col2 {\n",
       "            color:  black;\n",
       "        }    #T_0e25f944_b15a_11ea_91ab_08002715a539row0_col3 {\n",
       "            color:  red;\n",
       "        }    #T_0e25f944_b15a_11ea_91ab_08002715a539row1_col0 {\n",
       "            color:  red;\n",
       "        }    #T_0e25f944_b15a_11ea_91ab_08002715a539row1_col1 {\n",
       "            color:  red;\n",
       "        }    #T_0e25f944_b15a_11ea_91ab_08002715a539row1_col2 {\n",
       "            color:  black;\n",
       "        }    #T_0e25f944_b15a_11ea_91ab_08002715a539row1_col3 {\n",
       "            color:  red;\n",
       "        }    #T_0e25f944_b15a_11ea_91ab_08002715a539row2_col0 {\n",
       "            color:  black;\n",
       "        }    #T_0e25f944_b15a_11ea_91ab_08002715a539row2_col1 {\n",
       "            color:  black;\n",
       "        }    #T_0e25f944_b15a_11ea_91ab_08002715a539row2_col2 {\n",
       "            color:  red;\n",
       "        }    #T_0e25f944_b15a_11ea_91ab_08002715a539row2_col3 {\n",
       "            color:  black;\n",
       "        }    #T_0e25f944_b15a_11ea_91ab_08002715a539row3_col0 {\n",
       "            color:  black;\n",
       "        }    #T_0e25f944_b15a_11ea_91ab_08002715a539row3_col1 {\n",
       "            color:  red;\n",
       "        }    #T_0e25f944_b15a_11ea_91ab_08002715a539row3_col2 {\n",
       "            color:  red;\n",
       "        }    #T_0e25f944_b15a_11ea_91ab_08002715a539row3_col3 {\n",
       "            color:  black;\n",
       "        }    #T_0e25f944_b15a_11ea_91ab_08002715a539row4_col0 {\n",
       "            color:  black;\n",
       "        }    #T_0e25f944_b15a_11ea_91ab_08002715a539row4_col1 {\n",
       "            color:  black;\n",
       "        }    #T_0e25f944_b15a_11ea_91ab_08002715a539row4_col2 {\n",
       "            color:  red;\n",
       "        }    #T_0e25f944_b15a_11ea_91ab_08002715a539row4_col3 {\n",
       "            color:  black;\n",
       "        }    #T_0e25f944_b15a_11ea_91ab_08002715a539row5_col0 {\n",
       "            color:  red;\n",
       "        }    #T_0e25f944_b15a_11ea_91ab_08002715a539row5_col1 {\n",
       "            color:  black;\n",
       "        }    #T_0e25f944_b15a_11ea_91ab_08002715a539row5_col2 {\n",
       "            color:  red;\n",
       "        }    #T_0e25f944_b15a_11ea_91ab_08002715a539row5_col3 {\n",
       "            color:  black;\n",
       "        }    #T_0e25f944_b15a_11ea_91ab_08002715a539row6_col0 {\n",
       "            color:  black;\n",
       "        }    #T_0e25f944_b15a_11ea_91ab_08002715a539row6_col1 {\n",
       "            color:  red;\n",
       "        }    #T_0e25f944_b15a_11ea_91ab_08002715a539row6_col2 {\n",
       "            color:  black;\n",
       "        }    #T_0e25f944_b15a_11ea_91ab_08002715a539row6_col3 {\n",
       "            color:  black;\n",
       "        }    #T_0e25f944_b15a_11ea_91ab_08002715a539row7_col0 {\n",
       "            color:  red;\n",
       "        }    #T_0e25f944_b15a_11ea_91ab_08002715a539row7_col1 {\n",
       "            color:  black;\n",
       "        }    #T_0e25f944_b15a_11ea_91ab_08002715a539row7_col2 {\n",
       "            color:  black;\n",
       "        }    #T_0e25f944_b15a_11ea_91ab_08002715a539row7_col3 {\n",
       "            color:  red;\n",
       "        }    #T_0e25f944_b15a_11ea_91ab_08002715a539row8_col0 {\n",
       "            color:  red;\n",
       "        }    #T_0e25f944_b15a_11ea_91ab_08002715a539row8_col1 {\n",
       "            color:  red;\n",
       "        }    #T_0e25f944_b15a_11ea_91ab_08002715a539row8_col2 {\n",
       "            color:  red;\n",
       "        }    #T_0e25f944_b15a_11ea_91ab_08002715a539row8_col3 {\n",
       "            color:  black;\n",
       "        }    #T_0e25f944_b15a_11ea_91ab_08002715a539row9_col0 {\n",
       "            color:  black;\n",
       "        }    #T_0e25f944_b15a_11ea_91ab_08002715a539row9_col1 {\n",
       "            color:  red;\n",
       "        }    #T_0e25f944_b15a_11ea_91ab_08002715a539row9_col2 {\n",
       "            color:  black;\n",
       "        }    #T_0e25f944_b15a_11ea_91ab_08002715a539row9_col3 {\n",
       "            color:  red;\n",
       "        }</style><table id=\"T_0e25f944_b15a_11ea_91ab_08002715a539\" ><thead>    <tr>        <th class=\"blank level0\" ></th>        <th class=\"col_heading level0 col0\" >0</th>        <th class=\"col_heading level0 col1\" >1</th>        <th class=\"col_heading level0 col2\" >2</th>        <th class=\"col_heading level0 col3\" >3</th>    </tr></thead><tbody>\n",
       "                <tr>\n",
       "                        <th id=\"T_0e25f944_b15a_11ea_91ab_08002715a539level0_row0\" class=\"row_heading level0 row0\" >0</th>\n",
       "                        <td id=\"T_0e25f944_b15a_11ea_91ab_08002715a539row0_col0\" class=\"data row0 col0\" >-10</td>\n",
       "                        <td id=\"T_0e25f944_b15a_11ea_91ab_08002715a539row0_col1\" class=\"data row0 col1\" >0</td>\n",
       "                        <td id=\"T_0e25f944_b15a_11ea_91ab_08002715a539row0_col2\" class=\"data row0 col2\" >5</td>\n",
       "                        <td id=\"T_0e25f944_b15a_11ea_91ab_08002715a539row0_col3\" class=\"data row0 col3\" >-7</td>\n",
       "            </tr>\n",
       "            <tr>\n",
       "                        <th id=\"T_0e25f944_b15a_11ea_91ab_08002715a539level0_row1\" class=\"row_heading level0 row1\" >1</th>\n",
       "                        <td id=\"T_0e25f944_b15a_11ea_91ab_08002715a539row1_col0\" class=\"data row1 col0\" >-7</td>\n",
       "                        <td id=\"T_0e25f944_b15a_11ea_91ab_08002715a539row1_col1\" class=\"data row1 col1\" >-6</td>\n",
       "                        <td id=\"T_0e25f944_b15a_11ea_91ab_08002715a539row1_col2\" class=\"data row1 col2\" >7</td>\n",
       "                        <td id=\"T_0e25f944_b15a_11ea_91ab_08002715a539row1_col3\" class=\"data row1 col3\" >-2</td>\n",
       "            </tr>\n",
       "            <tr>\n",
       "                        <th id=\"T_0e25f944_b15a_11ea_91ab_08002715a539level0_row2\" class=\"row_heading level0 row2\" >2</th>\n",
       "                        <td id=\"T_0e25f944_b15a_11ea_91ab_08002715a539row2_col0\" class=\"data row2 col0\" >7</td>\n",
       "                        <td id=\"T_0e25f944_b15a_11ea_91ab_08002715a539row2_col1\" class=\"data row2 col1\" >6</td>\n",
       "                        <td id=\"T_0e25f944_b15a_11ea_91ab_08002715a539row2_col2\" class=\"data row2 col2\" >-5</td>\n",
       "                        <td id=\"T_0e25f944_b15a_11ea_91ab_08002715a539row2_col3\" class=\"data row2 col3\" >1</td>\n",
       "            </tr>\n",
       "            <tr>\n",
       "                        <th id=\"T_0e25f944_b15a_11ea_91ab_08002715a539level0_row3\" class=\"row_heading level0 row3\" >3</th>\n",
       "                        <td id=\"T_0e25f944_b15a_11ea_91ab_08002715a539row3_col0\" class=\"data row3 col0\" >9</td>\n",
       "                        <td id=\"T_0e25f944_b15a_11ea_91ab_08002715a539row3_col1\" class=\"data row3 col1\" >-2</td>\n",
       "                        <td id=\"T_0e25f944_b15a_11ea_91ab_08002715a539row3_col2\" class=\"data row3 col2\" >-7</td>\n",
       "                        <td id=\"T_0e25f944_b15a_11ea_91ab_08002715a539row3_col3\" class=\"data row3 col3\" >7</td>\n",
       "            </tr>\n",
       "            <tr>\n",
       "                        <th id=\"T_0e25f944_b15a_11ea_91ab_08002715a539level0_row4\" class=\"row_heading level0 row4\" >4</th>\n",
       "                        <td id=\"T_0e25f944_b15a_11ea_91ab_08002715a539row4_col0\" class=\"data row4 col0\" >4</td>\n",
       "                        <td id=\"T_0e25f944_b15a_11ea_91ab_08002715a539row4_col1\" class=\"data row4 col1\" >8</td>\n",
       "                        <td id=\"T_0e25f944_b15a_11ea_91ab_08002715a539row4_col2\" class=\"data row4 col2\" >-10</td>\n",
       "                        <td id=\"T_0e25f944_b15a_11ea_91ab_08002715a539row4_col3\" class=\"data row4 col3\" >6</td>\n",
       "            </tr>\n",
       "            <tr>\n",
       "                        <th id=\"T_0e25f944_b15a_11ea_91ab_08002715a539level0_row5\" class=\"row_heading level0 row5\" >5</th>\n",
       "                        <td id=\"T_0e25f944_b15a_11ea_91ab_08002715a539row5_col0\" class=\"data row5 col0\" >-3</td>\n",
       "                        <td id=\"T_0e25f944_b15a_11ea_91ab_08002715a539row5_col1\" class=\"data row5 col1\" >2</td>\n",
       "                        <td id=\"T_0e25f944_b15a_11ea_91ab_08002715a539row5_col2\" class=\"data row5 col2\" >-2</td>\n",
       "                        <td id=\"T_0e25f944_b15a_11ea_91ab_08002715a539row5_col3\" class=\"data row5 col3\" >1</td>\n",
       "            </tr>\n",
       "            <tr>\n",
       "                        <th id=\"T_0e25f944_b15a_11ea_91ab_08002715a539level0_row6\" class=\"row_heading level0 row6\" >6</th>\n",
       "                        <td id=\"T_0e25f944_b15a_11ea_91ab_08002715a539row6_col0\" class=\"data row6 col0\" >7</td>\n",
       "                        <td id=\"T_0e25f944_b15a_11ea_91ab_08002715a539row6_col1\" class=\"data row6 col1\" >-8</td>\n",
       "                        <td id=\"T_0e25f944_b15a_11ea_91ab_08002715a539row6_col2\" class=\"data row6 col2\" >3</td>\n",
       "                        <td id=\"T_0e25f944_b15a_11ea_91ab_08002715a539row6_col3\" class=\"data row6 col3\" >5</td>\n",
       "            </tr>\n",
       "            <tr>\n",
       "                        <th id=\"T_0e25f944_b15a_11ea_91ab_08002715a539level0_row7\" class=\"row_heading level0 row7\" >7</th>\n",
       "                        <td id=\"T_0e25f944_b15a_11ea_91ab_08002715a539row7_col0\" class=\"data row7 col0\" >-9</td>\n",
       "                        <td id=\"T_0e25f944_b15a_11ea_91ab_08002715a539row7_col1\" class=\"data row7 col1\" >4</td>\n",
       "                        <td id=\"T_0e25f944_b15a_11ea_91ab_08002715a539row7_col2\" class=\"data row7 col2\" >8</td>\n",
       "                        <td id=\"T_0e25f944_b15a_11ea_91ab_08002715a539row7_col3\" class=\"data row7 col3\" >-9</td>\n",
       "            </tr>\n",
       "            <tr>\n",
       "                        <th id=\"T_0e25f944_b15a_11ea_91ab_08002715a539level0_row8\" class=\"row_heading level0 row8\" >8</th>\n",
       "                        <td id=\"T_0e25f944_b15a_11ea_91ab_08002715a539row8_col0\" class=\"data row8 col0\" >-2</td>\n",
       "                        <td id=\"T_0e25f944_b15a_11ea_91ab_08002715a539row8_col1\" class=\"data row8 col1\" >-3</td>\n",
       "                        <td id=\"T_0e25f944_b15a_11ea_91ab_08002715a539row8_col2\" class=\"data row8 col2\" >-8</td>\n",
       "                        <td id=\"T_0e25f944_b15a_11ea_91ab_08002715a539row8_col3\" class=\"data row8 col3\" >8</td>\n",
       "            </tr>\n",
       "            <tr>\n",
       "                        <th id=\"T_0e25f944_b15a_11ea_91ab_08002715a539level0_row9\" class=\"row_heading level0 row9\" >9</th>\n",
       "                        <td id=\"T_0e25f944_b15a_11ea_91ab_08002715a539row9_col0\" class=\"data row9 col0\" >4</td>\n",
       "                        <td id=\"T_0e25f944_b15a_11ea_91ab_08002715a539row9_col1\" class=\"data row9 col1\" >-2</td>\n",
       "                        <td id=\"T_0e25f944_b15a_11ea_91ab_08002715a539row9_col2\" class=\"data row9 col2\" >3</td>\n",
       "                        <td id=\"T_0e25f944_b15a_11ea_91ab_08002715a539row9_col3\" class=\"data row9 col3\" >-6</td>\n",
       "            </tr>\n",
       "    </tbody></table>"
      ],
      "text/plain": [
       "<pandas.io.formats.style.Styler at 0x7f6dd79014e0>"
      ]
     },
     "execution_count": 16,
     "metadata": {},
     "output_type": "execute_result"
    }
   ],
   "source": [
    "df = pd.DataFrame(np.random.randint(-10, 10, size=(10,4)))\n",
    "\n",
    "def color_red_black(val):\n",
    "    color = 'red' if val < 0 else 'black'\n",
    "    return 'color: %s' % color\n",
    "\n",
    "df.style.applymap(color_red_black)"
   ]
  },
  {
   "cell_type": "markdown",
   "metadata": {},
   "source": [
    "# 4) Current date, oldest date and number of days"
   ]
  },
  {
   "cell_type": "code",
   "execution_count": 36,
   "metadata": {},
   "outputs": [],
   "source": [
    "df = pd.read_csv(\"ufo_data/ufo_sighting_data.csv\")\n",
    "#df[\"Date_time\"] = df[\"Date_time\"].astype(\"datetime64[ns]\")\n",
    "#df['Date_time'] =  pd.to_datetime(df['Date_time'], format='%d%b%Y:%H:%M:%S.%f')\n",
    "df[['date','time']] = df['Date_time'].str.split(expand=True)\n",
    "df['Date_time'] = (pd.to_datetime(df.pop('date'), format='%m/%d/%Y') + \n",
    "                  pd.to_timedelta(df.pop('time') + ':00'))"
   ]
  },
  {
   "cell_type": "code",
   "execution_count": 41,
   "metadata": {},
   "outputs": [
    {
     "name": "stdout",
     "output_type": "stream",
     "text": [
      "Newest UFO\n"
     ]
    },
    {
     "data": {
      "text/plain": [
       "Timestamp('2014-05-08 18:45:00')"
      ]
     },
     "execution_count": 41,
     "metadata": {},
     "output_type": "execute_result"
    }
   ],
   "source": [
    "print(\"Newest UFO\")\n",
    "df.Date_time.max()"
   ]
  },
  {
   "cell_type": "code",
   "execution_count": 42,
   "metadata": {},
   "outputs": [
    {
     "name": "stdout",
     "output_type": "stream",
     "text": [
      "Oldest UFO\n"
     ]
    },
    {
     "data": {
      "text/plain": [
       "Timestamp('1906-11-11 00:00:00')"
      ]
     },
     "execution_count": 42,
     "metadata": {},
     "output_type": "execute_result"
    }
   ],
   "source": [
    "print(\"Oldest UFO\")\n",
    "df.Date_time.min()"
   ]
  },
  {
   "cell_type": "code",
   "execution_count": 43,
   "metadata": {},
   "outputs": [
    {
     "name": "stdout",
     "output_type": "stream",
     "text": [
      "Number of days difference\n"
     ]
    },
    {
     "data": {
      "text/plain": [
       "39260"
      ]
     },
     "execution_count": 43,
     "metadata": {},
     "output_type": "execute_result"
    }
   ],
   "source": [
    "print(\"Number of days difference\")\n",
    "(df.Date_time.max() - df.Date_time.min()).days"
   ]
  },
  {
   "cell_type": "markdown",
   "metadata": {},
   "source": [
    "# 5) Extract year, month, day, hour, minute, second and weekday"
   ]
  },
  {
   "cell_type": "code",
   "execution_count": 47,
   "metadata": {},
   "outputs": [
    {
     "name": "stdout",
     "output_type": "stream",
     "text": [
      "Year: \n"
     ]
    },
    {
     "data": {
      "text/plain": [
       "0    1949\n",
       "1    1949\n",
       "2    1955\n",
       "3    1956\n",
       "4    1960\n",
       "Name: Date_time, dtype: int64"
      ]
     },
     "execution_count": 47,
     "metadata": {},
     "output_type": "execute_result"
    }
   ],
   "source": [
    "print(\"Year: \")\n",
    "df.Date_time.dt.year.head()"
   ]
  },
  {
   "cell_type": "code",
   "execution_count": 48,
   "metadata": {},
   "outputs": [
    {
     "name": "stdout",
     "output_type": "stream",
     "text": [
      "Month: \n"
     ]
    },
    {
     "data": {
      "text/plain": [
       "0    10\n",
       "1    10\n",
       "2    10\n",
       "3    10\n",
       "4    10\n",
       "Name: Date_time, dtype: int64"
      ]
     },
     "execution_count": 48,
     "metadata": {},
     "output_type": "execute_result"
    }
   ],
   "source": [
    "print(\"Month: \")\n",
    "df.Date_time.dt.month.head()"
   ]
  },
  {
   "cell_type": "code",
   "execution_count": 49,
   "metadata": {},
   "outputs": [
    {
     "name": "stdout",
     "output_type": "stream",
     "text": [
      "Day: \n"
     ]
    },
    {
     "data": {
      "text/plain": [
       "0    10\n",
       "1    10\n",
       "2    10\n",
       "3    10\n",
       "4    10\n",
       "Name: Date_time, dtype: int64"
      ]
     },
     "execution_count": 49,
     "metadata": {},
     "output_type": "execute_result"
    }
   ],
   "source": [
    "print(\"Day: \")\n",
    "df.Date_time.dt.day.head()"
   ]
  },
  {
   "cell_type": "code",
   "execution_count": 50,
   "metadata": {},
   "outputs": [
    {
     "name": "stdout",
     "output_type": "stream",
     "text": [
      "Hour: \n"
     ]
    },
    {
     "data": {
      "text/plain": [
       "0    20\n",
       "1    21\n",
       "2    17\n",
       "3    21\n",
       "4    20\n",
       "Name: Date_time, dtype: int64"
      ]
     },
     "execution_count": 50,
     "metadata": {},
     "output_type": "execute_result"
    }
   ],
   "source": [
    "print(\"Hour: \")\n",
    "df.Date_time.dt.hour.head()"
   ]
  },
  {
   "cell_type": "code",
   "execution_count": 51,
   "metadata": {},
   "outputs": [
    {
     "name": "stdout",
     "output_type": "stream",
     "text": [
      "Minute: \n"
     ]
    },
    {
     "data": {
      "text/plain": [
       "0    30\n",
       "1     0\n",
       "2     0\n",
       "3     0\n",
       "4     0\n",
       "Name: Date_time, dtype: int64"
      ]
     },
     "execution_count": 51,
     "metadata": {},
     "output_type": "execute_result"
    }
   ],
   "source": [
    "print(\"Minute: \")\n",
    "df.Date_time.dt.minute.head()"
   ]
  },
  {
   "cell_type": "code",
   "execution_count": 52,
   "metadata": {},
   "outputs": [
    {
     "name": "stdout",
     "output_type": "stream",
     "text": [
      "Second: \n"
     ]
    },
    {
     "data": {
      "text/plain": [
       "0    0\n",
       "1    0\n",
       "2    0\n",
       "3    0\n",
       "4    0\n",
       "Name: Date_time, dtype: int64"
      ]
     },
     "execution_count": 52,
     "metadata": {},
     "output_type": "execute_result"
    }
   ],
   "source": [
    "print(\"Second: \")\n",
    "df.Date_time.dt.second.head()"
   ]
  },
  {
   "cell_type": "code",
   "execution_count": 68,
   "metadata": {},
   "outputs": [
    {
     "name": "stdout",
     "output_type": "stream",
     "text": [
      "Weekday: \n"
     ]
    },
    {
     "data": {
      "text/plain": [
       "0           Monday\n",
       "1           Monday\n",
       "2           Monday\n",
       "3        Wednesday\n",
       "4           Monday\n",
       "           ...    \n",
       "80327       Monday\n",
       "80328       Monday\n",
       "80329       Monday\n",
       "80330       Monday\n",
       "80331       Monday\n",
       "Name: Date_time, Length: 80332, dtype: object"
      ]
     },
     "execution_count": 68,
     "metadata": {},
     "output_type": "execute_result"
    }
   ],
   "source": [
    "print(\"Weekday: \")\n",
    "df.Date_time.dt.day_name()\n"
   ]
  },
  {
   "cell_type": "markdown",
   "metadata": {},
   "source": [
    "# Empty values of UFOs"
   ]
  },
  {
   "cell_type": "code",
   "execution_count": 59,
   "metadata": {},
   "outputs": [
    {
     "data": {
      "text/plain": [
       "Date_time                             0\n",
       "city                                  0\n",
       "state/province                     5797\n",
       "country                            9670\n",
       "UFO_shape                          1932\n",
       "length_of_encounter_seconds           0\n",
       "described_duration_of_encounter       0\n",
       "description                          15\n",
       "date_documented                       0\n",
       "latitude                              0\n",
       "longitude                             0\n",
       "dtype: int64"
      ]
     },
     "execution_count": 59,
     "metadata": {},
     "output_type": "execute_result"
    }
   ],
   "source": [
    "df.isnull().sum()"
   ]
  },
  {
   "cell_type": "code",
   "execution_count": null,
   "metadata": {},
   "outputs": [],
   "source": []
  }
 ],
 "metadata": {
  "kernelspec": {
   "display_name": "Python 3",
   "language": "python",
   "name": "python3"
  },
  "language_info": {
   "codemirror_mode": {
    "name": "ipython",
    "version": 3
   },
   "file_extension": ".py",
   "mimetype": "text/x-python",
   "name": "python",
   "nbconvert_exporter": "python",
   "pygments_lexer": "ipython3",
   "version": "3.6.9"
  }
 },
 "nbformat": 4,
 "nbformat_minor": 4
}
