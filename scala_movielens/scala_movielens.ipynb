{
 "cells": [
  {
   "cell_type": "code",
   "execution_count": 26,
   "metadata": {},
   "outputs": [],
   "source": [
    "import org.apache.spark.sql.types.{StructType, StructField, StringType, IntegerType}\n",
    "import org.apache.spark.sql.functions.{lit, max, row_number, desc, col, to_date, asc, to_timestamp}"
   ]
  },
  {
   "cell_type": "code",
   "execution_count": 2,
   "metadata": {},
   "outputs": [
    {
     "data": {
      "text/plain": [
       "ratings_schema = StructType(StructField(user_id,IntegerType,true), StructField(item_id,IntegerType,true), StructField(rating,IntegerType,true), StructField(timestamp,IntegerType,true))\n",
       "movies_schema = StructType(StructField(item_id,IntegerType,true), StructField(movie_title,StringType,true), StructField(release_date,StringType,true), StructField(video_release_date,StringType,true), StructField(IMBd_URL,StringType,true), StructField(unknown,IntegerType,true), StructField(action,IntegerType,true), StructField(adventure,IntegerType,true), StructField(animation,IntegerType,true), StructField(comedy,IntegerType,true), StructField(crime,IntegerType,true), StructField(documentary,IntegerType,true), StructField(drama,...\n"
      ]
     },
     "metadata": {},
     "output_type": "display_data"
    },
    {
     "data": {
      "text/plain": [
       "StructType(StructField(item_id,IntegerType,true), StructField(movie_title,StringType,true), StructField(release_date,StringType,true), StructField(video_release_date,StringType,true), StructField(IMBd_URL,StringType,true), StructField(unknown,IntegerType,true), StructField(action,IntegerType,true), StructField(adventure,IntegerType,true), StructField(animation,IntegerType,true), StructField(comedy,IntegerType,true), StructField(crime,IntegerType,true), StructField(documentary,IntegerType,true), StructField(drama,..."
      ]
     },
     "execution_count": 2,
     "metadata": {},
     "output_type": "execute_result"
    }
   ],
   "source": [
    "val ratings_schema = new StructType()\n",
    "        .add(\"user_id\", IntegerType, true)\n",
    "        .add(\"item_id\", IntegerType, true)\n",
    "        .add(\"rating\", IntegerType, true)\n",
    "        .add(\"timestamp\", IntegerType, true)\n",
    "        \n",
    "val movies_schema = new StructType()\n",
    "        .add(\"item_id\", IntegerType, true)\n",
    "        .add(\"movie_title\", StringType, true)\n",
    "        .add(\"release_date\", StringType, true)\n",
    "        .add(\"video_release_date\", StringType, true)\n",
    "        .add(\"IMBd_URL\", StringType , true)\n",
    "        .add(\"unknown\", IntegerType, true)\n",
    "        .add(\"action\", IntegerType, true)\n",
    "        .add(\"adventure\", IntegerType, true)\n",
    "        .add(\"animation\", IntegerType, true)\n",
    "        .add(\"comedy\", IntegerType, true)\n",
    "        .add(\"crime\", IntegerType, true)\n",
    "        .add(\"documentary\", IntegerType, true)\n",
    "        .add(\"drama\", IntegerType, true)\n",
    "        .add(\"fantasy\", IntegerType, true)\n",
    "        .add(\"film_noir\", IntegerType, true)\n",
    "        .add(\"horror\", IntegerType, true)\n",
    "        .add(\"musical\", IntegerType, true)\n",
    "        .add(\"mystery\", IntegerType, true)\n",
    "        .add(\"romance\", IntegerType, true)\n",
    "        .add(\"sci_fi\", IntegerType, true)\n",
    "        .add(\"thriller\", IntegerType, true)\n",
    "        .add(\"war\", IntegerType, true)\n",
    "        .add(\"western\", IntegerType, true)\n",
    "\n",
    "val users_schema = new StructType()\n",
    "        .add(\"user_id\", IntegerType, true)\n",
    "        .add(\"age\", IntegerType, true)\n",
    "        .add(\"gender\", StringType, true)\n",
    "        .add(\"occupation\", StringType, true)\n",
    "        .add(\"zip_code\", IntegerType, true)"
   ]
  },
  {
   "cell_type": "code",
   "execution_count": 4,
   "metadata": {},
   "outputs": [
    {
     "data": {
      "text/plain": [
       "ratings_df = [user_id: int, item_id: int ... 2 more fields]\n",
       "movies_df = [item_id: int, movie_title: string ... 21 more fields]\n",
       "users_df = [user_id: int, age: int ... 3 more fields]\n"
      ]
     },
     "metadata": {},
     "output_type": "display_data"
    },
    {
     "data": {
      "text/plain": [
       "lastException: Throwable = null\n"
      ]
     },
     "metadata": {},
     "output_type": "display_data"
    },
    {
     "data": {
      "text/plain": [
       "[user_id: int, age: int ... 3 more fields]"
      ]
     },
     "execution_count": 4,
     "metadata": {},
     "output_type": "execute_result"
    }
   ],
   "source": [
    "val ratings_df = spark.read.options(Map(\"sep\"->\"\\t\")).schema(ratings_schema).csv(\"ml-100k/u.data\")\n",
    "val movies_df = spark.read.options(Map(\"sep\"->\"|\")).schema(movies_schema).csv(\"ml-100k/u.item\")\n",
    "val users_df = spark.read.options(Map(\"sep\"->\"|\")).schema(users_schema).csv(\"ml-100k/u.user\")  "
   ]
  },
  {
   "cell_type": "markdown",
   "metadata": {},
   "source": [
    "# 1-2)"
   ]
  },
  {
   "cell_type": "code",
   "execution_count": 17,
   "metadata": {},
   "outputs": [
    {
     "name": "stdout",
     "output_type": "stream",
     "text": [
      "+-------+------+--------------------+\n",
      "|item_id|Rating|         movie_title|\n",
      "+-------+------+--------------------+\n",
      "|     50|   583|    Star Wars (1977)|\n",
      "|    258|   509|      Contact (1997)|\n",
      "|    100|   508|        Fargo (1996)|\n",
      "|    181|   507|Return of the Jed...|\n",
      "|    294|   485|    Liar Liar (1997)|\n",
      "|    286|   481|English Patient, ...|\n",
      "|    288|   478|       Scream (1996)|\n",
      "|      1|   452|    Toy Story (1995)|\n",
      "|    300|   431|Air Force One (1997)|\n",
      "|    121|   429|Independence Day ...|\n",
      "+-------+------+--------------------+\n",
      "only showing top 10 rows\n",
      "\n"
     ]
    },
    {
     "data": {
      "text/plain": [
       "test = [user_id: int, item_id: int ... 3 more fields]\n",
       "test2 = [user_id: int, item_id: int ... 2 more fields]\n",
       "grouped_by_id = [item_id: int, sum(counter): bigint]\n",
       "top_10 = [item_id: int, Rating: bigint]\n",
       "names = [item_id: int, movie_title: string]\n",
       "movie_names = [item_id: int, Rating: bigint ... 1 more field]\n"
      ]
     },
     "metadata": {},
     "output_type": "display_data"
    },
    {
     "data": {
      "text/plain": [
       "[item_id: int, Rating: bigint ... 1 more field]"
      ]
     },
     "execution_count": 17,
     "metadata": {},
     "output_type": "execute_result"
    }
   ],
   "source": [
    "val test =ratings_df.withColumn(\"counter\", lit(1)) \n",
    "val test2 = test.drop(\"timestamp\")\n",
    "val grouped_by_id = test2.groupBy(\"item_id\").sum(\"counter\")\n",
    "val top_10 = grouped_by_id.sort(desc(\"sum(counter)\")).withColumnRenamed(\"sum(counter)\", \"Rating\")\n",
    "\n",
    "val names = movies_df.select(\"item_id\", \"movie_title\")\n",
    "val movie_names = top_10.join(names, Seq(\"item_id\"))\n",
    "movie_names.show(10)"
   ]
  },
  {
   "cell_type": "markdown",
   "metadata": {},
   "source": [
    "# 3)"
   ]
  },
  {
   "cell_type": "code",
   "execution_count": 18,
   "metadata": {},
   "outputs": [
    {
     "name": "stdout",
     "output_type": "stream",
     "text": [
      "+------+-----------+\n",
      "|action|sum(action)|\n",
      "+------+-----------+\n",
      "|     1|        251|\n",
      "|     0|          0|\n",
      "+------+-----------+\n",
      "\n",
      "+-------+------------+\n",
      "|unknown|sum(unknown)|\n",
      "+-------+------------+\n",
      "|      1|           2|\n",
      "|      0|           0|\n",
      "+-------+------------+\n",
      "\n",
      "+---------+--------------+\n",
      "|adventure|sum(adventure)|\n",
      "+---------+--------------+\n",
      "|        1|           135|\n",
      "|        0|             0|\n",
      "+---------+--------------+\n",
      "\n",
      "+------+-----------+\n",
      "|comedy|sum(comedy)|\n",
      "+------+-----------+\n",
      "|     1|        122|\n",
      "|     0|          0|\n",
      "+------+-----------+\n",
      "\n",
      "+-----+----------+\n",
      "|crime|sum(crime)|\n",
      "+-----+----------+\n",
      "|    1|       505|\n",
      "|    0|         0|\n",
      "+-----+----------+\n",
      "\n",
      "+-----------+----------------+\n",
      "|documentary|sum(documentary)|\n",
      "+-----------+----------------+\n",
      "|          1|             109|\n",
      "|          0|               0|\n",
      "+-----------+----------------+\n",
      "\n",
      "+-----+----------+\n",
      "|drama|sum(drama)|\n",
      "+-----+----------+\n",
      "|    1|        50|\n",
      "|    0|         0|\n",
      "+-----+----------+\n",
      "\n",
      "+-------+------------+\n",
      "|fantasy|sum(fantasy)|\n",
      "+-------+------------+\n",
      "|      1|         725|\n",
      "|      0|           0|\n",
      "+-------+------------+\n",
      "\n",
      "+---------+--------------+\n",
      "|film_noir|sum(film_noir)|\n",
      "+---------+--------------+\n",
      "|        1|            22|\n",
      "|        0|             0|\n",
      "+---------+--------------+\n",
      "\n",
      "+------+-----------+\n",
      "|horror|sum(horror)|\n",
      "+------+-----------+\n",
      "|     1|         24|\n",
      "|     0|          0|\n",
      "+------+-----------+\n",
      "\n",
      "+-------+------------+\n",
      "|musical|sum(musical)|\n",
      "+-------+------------+\n",
      "|      1|          92|\n",
      "|      0|           0|\n",
      "+-------+------------+\n",
      "\n",
      "+-------+------------+\n",
      "|mystery|sum(mystery)|\n",
      "+-------+------------+\n",
      "|      1|          56|\n",
      "|      0|           0|\n",
      "+-------+------------+\n",
      "\n",
      "+------+-----------+\n",
      "|sci_fi|sum(sci_fi)|\n",
      "+------+-----------+\n",
      "|     1|        247|\n",
      "|     0|          0|\n",
      "+------+-----------+\n",
      "\n",
      "+--------+-------------+\n",
      "|thriller|sum(thriller)|\n",
      "+--------+-------------+\n",
      "|       1|          101|\n",
      "|       0|            0|\n",
      "+--------+-------------+\n",
      "\n",
      "+---+--------+\n",
      "|war|sum(war)|\n",
      "+---+--------+\n",
      "|  1|     251|\n",
      "|  0|       0|\n",
      "+---+--------+\n",
      "\n",
      "+-------+------------+\n",
      "|western|sum(western)|\n",
      "+-------+------------+\n",
      "|      1|          71|\n",
      "|      0|           0|\n",
      "+-------+------------+\n",
      "\n"
     ]
    },
    {
     "data": {
      "text/plain": [
       "genres = [item_id: int, unknown: int ... 17 more fields]\n"
      ]
     },
     "metadata": {},
     "output_type": "display_data"
    },
    {
     "data": {
      "text/plain": [
       "action: Unit = ()\n",
       "unknown: Unit = ()\n",
       "adventure: Unit = ()\n",
       "comedy: Unit = ()\n",
       "crime: Unit = ()\n",
       "documentary: Unit = ()\n",
       "drama: Unit = ()\n",
       "fantasy: Unit = ()\n",
       "film_noir: Unit = ()\n",
       "horror: Unit = ()\n",
       "musical: Unit = ()\n",
       "mystery: Unit = ()\n",
       "sci_fi: Unit = ()\n",
       "thriller: Unit = ()\n",
       "war: Unit = ()\n",
       "western: Unit = ()\n"
      ]
     },
     "metadata": {},
     "output_type": "display_data"
    },
    {
     "data": {
      "text/plain": [
       "[item_id: int, unknown: int ... 17 more fields]"
      ]
     },
     "execution_count": 18,
     "metadata": {},
     "output_type": "execute_result"
    }
   ],
   "source": [
    "val genres = movies_df.drop(\"movie_title\", \"release_date\", \"IMBd_URL\", \"video_release_date\")\n",
    "\n",
    "val action = genres.select(\"item_id\", \"action\").groupBy(\"action\").sum(\"action\").show()\n",
    "val unknown = genres.select(\"item_id\", \"unknown\").groupBy(\"unknown\").sum(\"unknown\").show()\n",
    "val adventure = genres.select(\"item_id\", \"adventure\").groupBy(\"adventure\").sum(\"adventure\").show()\n",
    "val comedy = genres.select(\"item_id\", \"comedy\").groupBy(\"comedy\").sum(\"comedy\").show()\n",
    "val crime = genres.select(\"item_id\", \"crime\").groupBy(\"crime\").sum(\"crime\").show()\n",
    "val documentary = genres.select(\"item_id\", \"documentary\").groupBy(\"documentary\").sum(\"documentary\").show()\n",
    "val drama = genres.select(\"item_id\", \"drama\").groupBy(\"drama\").sum(\"drama\").show()\n",
    "val fantasy = genres.select(\"item_id\", \"fantasy\").groupBy(\"fantasy\").sum(\"fantasy\").show()\n",
    "val film_noir = genres.select(\"item_id\", \"film_noir\").groupBy(\"film_noir\").sum(\"film_noir\").show()\n",
    "val horror = genres.select(\"item_id\", \"horror\").groupBy(\"horror\").sum(\"horror\").show()\n",
    "val musical = genres.select(\"item_id\", \"musical\").groupBy(\"musical\").sum(\"musical\").show()\n",
    "val mystery = genres.select(\"item_id\", \"mystery\").groupBy(\"mystery\").sum(\"mystery\").show()\n",
    "val sci_fi = genres.select(\"item_id\", \"sci_fi\").groupBy(\"sci_fi\").sum(\"sci_fi\").show()\n",
    "val thriller = genres.select(\"item_id\", \"thriller\").groupBy(\"thriller\").sum(\"thriller\").show()\n",
    "val war = genres.select(\"item_id\", \"war\").groupBy(\"war\").sum(\"war\").show()\n",
    "val western = genres.select(\"item_id\", \"western\").groupBy(\"western\").sum(\"western\").show()"
   ]
  },
  {
   "cell_type": "markdown",
   "metadata": {},
   "source": [
    "# 4)"
   ]
  },
  {
   "cell_type": "code",
   "execution_count": 27,
   "metadata": {},
   "outputs": [
    {
     "name": "stdout",
     "output_type": "stream",
     "text": [
      "+-------+--------------------+------------+\n",
      "|item_id|         movie_title|release_date|\n",
      "+-------+--------------------+------------+\n",
      "|    675|Nosferatu (Nosfer...|  1922-01-01|\n",
      "+-------+--------------------+------------+\n",
      "only showing top 1 row\n",
      "\n"
     ]
    },
    {
     "data": {
      "text/plain": [
       "rating = [item_id: int, rating: int ... 1 more field]\n",
       "rating_timestamp = [item_id: int, rating: int ... 1 more field]\n",
       "release_date = [item_id: int, movie_title: string ... 1 more field]\n",
       "date_time = [item_id: int, movie_title: string ... 1 more field]\n",
       "oldest_movie = [item_id: int, movie_title: string ... 1 more field]\n",
       "filter_null = [item_id: int, movie_title: string ... 1 more field]\n"
      ]
     },
     "metadata": {},
     "output_type": "display_data"
    },
    {
     "data": {
      "text/plain": [
       "[item_id: int, movie_title: string ... 1 more field]"
      ]
     },
     "execution_count": 27,
     "metadata": {},
     "output_type": "execute_result"
    }
   ],
   "source": [
    "val rating = ratings_df.select(\"item_id\", \"rating\", \"timestamp\").where(col(\"rating\")===5)\n",
    "val rating_timestamp = rating.withColumn(\"timestamp\", to_timestamp(col(\"timestamp\")))\n",
    "\n",
    "val release_date = movies_df.select(\"item_id\", \"movie_title\", \"release_date\")\n",
    "val date_time = release_date.withColumn(\"release_date\", to_date(col(\"release_date\"), \"dd-MMM-yyyy\"))\n",
    "\n",
    "val oldest_movie = date_time.sort(asc(\"release_date\"))\n",
    "val filter_null = oldest_movie.filter(col(\"release_date\").isNotNull)\n",
    "filter_null.show(1)"
   ]
  },
  {
   "cell_type": "markdown",
   "metadata": {},
   "source": [
    "# 5)"
   ]
  },
  {
   "cell_type": "code",
   "execution_count": 29,
   "metadata": {},
   "outputs": [
    {
     "name": "stdout",
     "output_type": "stream",
     "text": [
      "+--------------------+-------+------+---------+---------+------+-----+-----------+-----+-------+---------+------+-------+-------+-------+------+--------+---+-------+\n",
      "|         movie_title|unknown|action|adventure|animation|comedy|crime|documentary|drama|fantasy|film_noir|horror|musical|mystery|romance|sci_fi|thriller|war|western|\n",
      "+--------------------+-------+------+---------+---------+------+-----+-----------+-----+-------+---------+------+-------+-------+-------+------+--------+---+-------+\n",
      "|    Star Wars (1977)|      0|     1|        1|        0|     0|    0|          0|    0|      0|        0|     0|      0|      0|      0|     1|       1|  0|      1|\n",
      "|      Contact (1997)|      0|     0|        0|        0|     0|    0|          0|    0|      1|        0|     0|      0|      0|      0|     0|       1|  0|      0|\n",
      "|        Fargo (1996)|      0|     0|        0|        0|     0|    0|          1|    0|      1|        0|     0|      0|      0|      0|     0|       0|  1|      0|\n",
      "|Return of the Jed...|      0|     1|        1|        0|     0|    0|          0|    0|      0|        0|     0|      0|      0|      0|     1|       1|  0|      1|\n",
      "|    Liar Liar (1997)|      0|     0|        0|        0|     0|    1|          0|    0|      0|        0|     0|      0|      0|      0|     0|       0|  0|      0|\n",
      "|English Patient, ...|      0|     0|        0|        0|     0|    0|          0|    0|      1|        0|     0|      0|      0|      0|     1|       0|  0|      1|\n",
      "|       Scream (1996)|      0|     0|        0|        0|     0|    0|          0|    0|      0|        0|     0|      1|      0|      0|     0|       0|  1|      0|\n",
      "|    Toy Story (1995)|      0|     0|        0|        1|     1|    1|          0|    0|      0|        0|     0|      0|      0|      0|     0|       0|  0|      0|\n",
      "|Air Force One (1997)|      0|     1|        0|        0|     0|    0|          0|    0|      0|        0|     0|      0|      0|      0|     0|       0|  1|      0|\n",
      "|Independence Day ...|      0|     1|        0|        0|     0|    0|          0|    0|      0|        0|     0|      0|      0|      0|     0|       1|  0|      1|\n",
      "+--------------------+-------+------+---------+---------+------+-----+-----------+-----+-------+---------+------+-------+-------+-------+------+--------+---+-------+\n",
      "\n"
     ]
    },
    {
     "data": {
      "text/plain": [
       "rated_counter = [user_id: int, item_id: int ... 3 more fields]\n",
       "rated_grouped = [item_id: int, sum(counter): bigint]\n",
       "most_rated = [item_id: int, sum(counter): bigint]\n",
       "most_rated_movies = [item_id: int, sum(counter): bigint ... 1 more field]\n",
       "movies_ids = [item_id: int]\n",
       "top_10 = [item_id: int]\n",
       "genres = [item_id: int, movie_title: string ... 21 more fields]\n",
       "movie_and_genres = [movie_title: string, unknown: int ... 17 more fields]\n"
      ]
     },
     "metadata": {},
     "output_type": "display_data"
    },
    {
     "data": {
      "text/plain": [
       "[movie_title: string, unknown: int ... 17 more fields]"
      ]
     },
     "execution_count": 29,
     "metadata": {},
     "output_type": "execute_result"
    }
   ],
   "source": [
    "val rated_counter = ratings_df.withColumn(\"counter\", lit(1)) \n",
    "val rated_grouped = rated_counter.groupBy(\"item_id\").sum(\"counter\")\n",
    "val most_rated = rated_grouped.sort(desc(\"sum(counter)\"))\n",
    "val most_rated_movies = most_rated.join(names, Seq(\"item_id\"))\n",
    "val movies_ids = most_rated_movies.select(\"item_id\")\n",
    "val top_10 = movies_ids.limit(10)\n",
    "val genres = top_10.join(movies_df, Seq(\"item_id\"), \"left\")\n",
    "val movie_and_genres = genres.drop(\"release_date\", \"IMBd_URL\", \"video_release_date\", \"item_id\")\n",
    "movie_and_genres.show()"
   ]
  },
  {
   "cell_type": "markdown",
   "metadata": {},
   "source": [
    "# 6)"
   ]
  },
  {
   "cell_type": "code",
   "execution_count": 31,
   "metadata": {},
   "outputs": [
    {
     "name": "stdout",
     "output_type": "stream",
     "text": [
      "+-------------+\n",
      "|  movie_title|\n",
      "+-------------+\n",
      "|Scream (1996)|\n",
      "+-------------+\n",
      "\n"
     ]
    },
    {
     "data": {
      "text/plain": [
       "students = [user_id: int, occupation: string]\n",
       "students_movies = [user_id: int, occupation: string ... 3 more fields]\n",
       "movie_id = [item_id: int, rating: int]\n",
       "counter = [item_id: int, rating: int ... 1 more field]\n",
       "most_rated = [item_id: int, sum(counter): bigint]\n",
       "movie_most_rated = [movie_title: string]\n"
      ]
     },
     "metadata": {},
     "output_type": "display_data"
    },
    {
     "data": {
      "text/plain": [
       "[movie_title: string]"
      ]
     },
     "execution_count": 31,
     "metadata": {},
     "output_type": "execute_result"
    }
   ],
   "source": [
    "val students = users_df.select(\"user_id\", \"occupation\").where(col(\"occupation\") ===\"student\")\n",
    "val students_movies = students.join(ratings_df, Seq(\"user_id\"))\n",
    "val movie_id = students_movies.select(\"item_id\", \"rating\")\n",
    "val counter = movie_id.withColumn(\"counter\", lit(1))\n",
    "val most_rated = counter.groupBy(\"item_id\").sum(\"counter\").sort(desc(\"sum(counter)\")).limit(1)\n",
    "val movie_most_rated = most_rated.join(movies_df, Seq(\"item_id\")).select(\"movie_title\")\n",
    "movie_most_rated.show()"
   ]
  },
  {
   "cell_type": "markdown",
   "metadata": {},
   "source": [
    "# 7)"
   ]
  },
  {
   "cell_type": "code",
   "execution_count": 33,
   "metadata": {},
   "outputs": [
    {
     "name": "stdout",
     "output_type": "stream",
     "text": [
      "+-------+---------+--------------------+\n",
      "|item_id|5 ratings|         movie_title|\n",
      "+-------+---------+--------------------+\n",
      "|     50|      325|    Star Wars (1977)|\n",
      "|    100|      227|        Fargo (1996)|\n",
      "|    127|      214|Godfather, The (1...|\n",
      "|    174|      202|Raiders of the Lo...|\n",
      "|     56|      188| Pulp Fiction (1994)|\n",
      "|    318|      186|Schindler's List ...|\n",
      "|     98|      181|Silence of the La...|\n",
      "|    313|      179|      Titanic (1997)|\n",
      "|    172|      172|Empire Strikes Ba...|\n",
      "|    181|      171|Return of the Jed...|\n",
      "+-------+---------+--------------------+\n",
      "\n"
     ]
    },
    {
     "data": {
      "text/plain": [
       "movies_5_ratings = [user_id: int, item_id: int ... 2 more fields]\n",
       "counter_movies = [user_id: int, item_id: int ... 3 more fields]\n",
       "group_by_id = [item_id: int, sum(counter): bigint]\n",
       "movie_names = [item_id: int, movie_title: string]\n",
       "top_movies_5_ratings = [item_id: int, 5 ratings: bigint ... 1 more field]\n"
      ]
     },
     "metadata": {},
     "output_type": "display_data"
    },
    {
     "data": {
      "text/plain": [
       "[item_id: int, 5 ratings: bigint ... 1 more field]"
      ]
     },
     "execution_count": 33,
     "metadata": {},
     "output_type": "execute_result"
    }
   ],
   "source": [
    "val movies_5_ratings = ratings_df.where(col(\"rating\")=== 5)\n",
    "val counter_movies = movies_5_ratings.withColumn(\"counter\", lit(1))\n",
    "val group_by_id = counter_movies.groupBy(\"item_id\").sum(\"counter\").sort(desc(\"sum(counter)\")).limit(10)\n",
    "val movie_names = movies_df.select(\"item_id\", \"movie_title\")\n",
    "val top_movies_5_ratings = group_by_id.join(movie_names, Seq(\"item_id\"), \"left\").withColumnRenamed(\"sum(counter)\", \"5 ratings\")\n",
    "top_movies_5_ratings.show()"
   ]
  },
  {
   "cell_type": "markdown",
   "metadata": {},
   "source": [
    "# 8)"
   ]
  },
  {
   "cell_type": "code",
   "execution_count": 35,
   "metadata": {},
   "outputs": [
    {
     "name": "stdout",
     "output_type": "stream",
     "text": [
      "+-------+-----------------+--------+\n",
      "|user_id|number of ratings|zip_code|\n",
      "+-------+-----------------+--------+\n",
      "|    405|              737|   10019|\n",
      "|    655|              685|   60657|\n",
      "|     13|              636|   29206|\n",
      "|    450|              540|   11758|\n",
      "|    276|              518|   95064|\n",
      "|    416|              493|   92626|\n",
      "|    537|              490|   22902|\n",
      "|    303|              484|   14853|\n",
      "|    234|              480|   94702|\n",
      "|    393|              448|   83686|\n",
      "|    181|              435|   21218|\n",
      "|    279|              434|   85251|\n",
      "|    429|              414|   29205|\n",
      "|    846|              405|   47130|\n",
      "|      7|              403|   91344|\n",
      "|     94|              400|   71457|\n",
      "|    682|              399|   55128|\n",
      "|    308|              397|   95076|\n",
      "|     92|              388|   80525|\n",
      "|    293|              388|   60804|\n",
      "+-------+-----------------+--------+\n",
      "only showing top 20 rows\n",
      "\n"
     ]
    },
    {
     "data": {
      "text/plain": [
       "users_counter = [user_id: int, counter: int]\n",
       "count_users = [user_id: int, sum(counter): bigint]\n",
       "zip_codes = [user_id: int, zip_code: int]\n",
       "user_zip_code = [user_id: int, number of ratings: bigint ... 1 more field]\n"
      ]
     },
     "metadata": {},
     "output_type": "display_data"
    },
    {
     "data": {
      "text/plain": [
       "[user_id: int, number of ratings: bigint ... 1 more field]"
      ]
     },
     "execution_count": 35,
     "metadata": {},
     "output_type": "execute_result"
    }
   ],
   "source": [
    "val users_counter = ratings_df.select(\"user_id\").withColumn(\"counter\", lit(1))\n",
    "val count_users = users_counter.groupBy(\"user_id\").sum(\"counter\").sort(desc(\"sum(counter)\"))\n",
    "val zip_codes = users_df.select(\"user_id\", \"zip_code\")\n",
    "val user_zip_code = count_users.join(zip_codes, Seq(\"user_id\"), \"left\").withColumnRenamed(\"sum(counter)\", \"number of ratings\")\n",
    "user_zip_code.show()"
   ]
  },
  {
   "cell_type": "markdown",
   "metadata": {},
   "source": [
    "# 9)"
   ]
  },
  {
   "cell_type": "code",
   "execution_count": 37,
   "metadata": {},
   "outputs": [
    {
     "name": "stdout",
     "output_type": "stream",
     "text": [
      "+-------------+\n",
      "|  movie_title|\n",
      "+-------------+\n",
      "|Scream (1996)|\n",
      "+-------------+\n",
      "\n"
     ]
    },
    {
     "data": {
      "text/plain": [
       "users_age_20_25 = [user_id: int, age: int]\n",
       "users_ratings_20_25 = [user_id: int, age: int ... 3 more fields]\n",
       "users_counter = [user_id: int, age: int ... 4 more fields]\n",
       "most_rated_df = [item_id: int, sum(counter): bigint]\n",
       "most_rated_movie = [movie_title: string]\n"
      ]
     },
     "metadata": {},
     "output_type": "display_data"
    },
    {
     "data": {
      "text/plain": [
       "[movie_title: string]"
      ]
     },
     "execution_count": 37,
     "metadata": {},
     "output_type": "execute_result"
    }
   ],
   "source": [
    "val users_age_20_25 = users_df.select(\"user_id\", \"age\").where(col(\"age\") >= 20 && col(\"age\") <= 25)\n",
    "val users_ratings_20_25 = users_age_20_25.join(ratings_df, Seq(\"user_id\"), \"left\")\n",
    "val users_counter = users_ratings_20_25.withColumn(\"counter\", lit(1))\n",
    "val most_rated_df = users_counter.groupBy(\"item_id\").sum(\"counter\").sort(desc(\"sum(counter)\")).limit(1)\n",
    "val most_rated_movie = most_rated_df.join(movies_df ,Seq(\"item_id\"), \"left\").select(\"movie_title\")\n",
    "most_rated_movie.show()"
   ]
  },
  {
   "cell_type": "markdown",
   "metadata": {},
   "source": [
    "# 10)"
   ]
  },
  {
   "cell_type": "code",
   "execution_count": 39,
   "metadata": {},
   "outputs": [
    {
     "name": "stdout",
     "output_type": "stream",
     "text": [
      "+--------------------+------------+\n",
      "|         movie_title|release_date|\n",
      "+--------------------+------------+\n",
      "|Innocents, The (1...|  1961-01-01|\n",
      "|Parent Trap, The ...|  1961-01-01|\n",
      "|Breakfast at Tiff...|  1961-01-01|\n",
      "|To Kill a Mocking...|  1962-01-01|\n",
      "|Manchurian Candid...|  1962-01-01|\n",
      "|    Cape Fear (1962)|  1962-01-01|\n",
      "|Lawrence of Arabi...|  1962-01-01|\n",
      "|   Mamma Roma (1962)|  1962-01-01|\n",
      "|Great Escape, The...|  1963-01-01|\n",
      "|      Charade (1963)|  1963-01-01|\n",
      "|   Birds, The (1963)|  1963-01-01|\n",
      "|Dr. Strangelove o...|  1963-01-01|\n",
      "|        8 1/2 (1963)|  1963-01-01|\n",
      "|Sword in the Ston...|  1963-01-01|\n",
      "| My Fair Lady (1964)|  1964-01-01|\n",
      "| Mary Poppins (1964)|  1964-01-01|\n",
      "|That Darn Cat! (1...|  1965-01-01|\n",
      "|Sound of Music, T...|  1965-01-01|\n",
      "|Faster Pussycat! ...|  1965-01-01|\n",
      "|   Alphaville (1965)|  1965-01-01|\n",
      "+--------------------+------------+\n",
      "only showing top 20 rows\n",
      "\n"
     ]
    },
    {
     "data": {
      "text/plain": [
       "movies_release_date = [movie_title: string, release_date: date]\n",
       "movies_after_1960 = [movie_title: string, release_date: date]\n",
       "movies_after_1960_sorted = [movie_title: string, release_date: date]\n"
      ]
     },
     "metadata": {},
     "output_type": "display_data"
    },
    {
     "data": {
      "text/plain": [
       "[movie_title: string, release_date: date]"
      ]
     },
     "execution_count": 39,
     "metadata": {},
     "output_type": "execute_result"
    }
   ],
   "source": [
    "val movies_release_date = date_time.select(\"movie_title\", \"release_date\")\n",
    "val movies_after_1960 = movies_release_date.filter(col(\"release_date\").gt(lit(\"1960-12-31\")))\n",
    "val movies_after_1960_sorted = movies_after_1960.sort(asc(\"release_date\"))\n",
    "movies_after_1960_sorted.show()"
   ]
  },
  {
   "cell_type": "code",
   "execution_count": null,
   "metadata": {},
   "outputs": [],
   "source": []
  }
 ],
 "metadata": {
  "kernelspec": {
   "display_name": "Apache Toree - Scala",
   "language": "scala",
   "name": "apache_toree_scala"
  },
  "language_info": {
   "codemirror_mode": "text/x-scala",
   "file_extension": ".scala",
   "mimetype": "text/x-scala",
   "name": "scala",
   "pygments_lexer": "scala",
   "version": "2.11.12"
  }
 },
 "nbformat": 4,
 "nbformat_minor": 4
}
