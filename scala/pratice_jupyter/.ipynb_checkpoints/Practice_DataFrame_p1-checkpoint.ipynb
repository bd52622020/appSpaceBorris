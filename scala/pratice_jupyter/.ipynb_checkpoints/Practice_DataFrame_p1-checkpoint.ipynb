{
 "cells": [
  {
   "cell_type": "code",
   "execution_count": 3,
   "metadata": {
    "scrolled": false
   },
   "outputs": [
    {
     "data": {
      "text/plain": [
       "spark = org.apache.spark.sql.SparkSession@50a8aba3\n"
      ]
     },
     "metadata": {},
     "output_type": "display_data"
    },
    {
     "data": {
      "text/plain": [
       "org.apache.spark.sql.SparkSession@50a8aba3"
      ]
     },
     "execution_count": 3,
     "metadata": {},
     "output_type": "execute_result"
    }
   ],
   "source": [
    "val spark = SparkSession.builder().master(\"local[*]\")\n",
    "                                  .appName(\"spark_test\")\n",
    "                                  .getOrCreate()"
   ]
  },
  {
   "cell_type": "markdown",
   "metadata": {},
   "source": [
    "# Test-Functionality"
   ]
  },
  {
   "cell_type": "code",
   "execution_count": 4,
   "metadata": {
    "scrolled": true
   },
   "outputs": [
    {
     "data": {
      "text/plain": [
       "df = [_c0: int, _c1: int ... 1 more field]\n"
      ]
     },
     "metadata": {},
     "output_type": "display_data"
    },
    {
     "data": {
      "text/plain": [
       "[_c0: int, _c1: int ... 1 more field]"
      ]
     },
     "execution_count": 4,
     "metadata": {},
     "output_type": "execute_result"
    }
   ],
   "source": [
    "val df = spark.read.options(Map(\"inferSchema\"->\"true\")).csv(\"examples/customer-orders (2).csv\")"
   ]
  },
  {
   "cell_type": "code",
   "execution_count": 24,
   "metadata": {
    "scrolled": false
   },
   "outputs": [
    {
     "name": "stdout",
     "output_type": "stream",
     "text": [
      "+---+----+-----+\n",
      "|_c0| _c1|  _c2|\n",
      "+---+----+-----+\n",
      "| 73|7875|99.99|\n",
      "| 73|7152|99.99|\n",
      "+---+----+-----+\n",
      "\n"
     ]
    },
    {
     "data": {
      "text/plain": [
       "highest_c2 = [_c0: int, _c1: int ... 1 more field]\n"
      ]
     },
     "metadata": {},
     "output_type": "display_data"
    },
    {
     "data": {
      "text/plain": [
       "[_c0: int, _c1: int ... 1 more field]"
      ]
     },
     "execution_count": 24,
     "metadata": {},
     "output_type": "execute_result"
    }
   ],
   "source": [
    "val highest_c2 = df.filter(df(\"_c2\") === 99.99)\n",
    "highest_c2.show()"
   ]
  },
  {
   "cell_type": "code",
   "execution_count": 22,
   "metadata": {},
   "outputs": [
    {
     "name": "stdout",
     "output_type": "stream",
     "text": [
      "+---+------------------+\n",
      "|_c0|          sum(_c2)|\n",
      "+---+------------------+\n",
      "| 31|           4765.05|\n",
      "| 85|           5503.43|\n",
      "| 65|5140.3499999999985|\n",
      "| 53| 4945.299999999999|\n",
      "| 78| 4524.509999999999|\n",
      "| 34|            5330.8|\n",
      "| 81| 5112.709999999999|\n",
      "| 28| 5000.709999999998|\n",
      "| 76| 4904.209999999999|\n",
      "| 27| 4915.889999999999|\n",
      "| 26|            5250.4|\n",
      "| 44|4756.8899999999985|\n",
      "| 12| 4664.589999999998|\n",
      "| 91| 4642.259999999999|\n",
      "| 22| 5019.449999999999|\n",
      "| 93| 5265.750000000001|\n",
      "| 47| 4316.299999999999|\n",
      "|  1| 4958.600000000001|\n",
      "| 52| 5245.059999999999|\n",
      "| 13|           4367.62|\n",
      "+---+------------------+\n",
      "only showing top 20 rows\n",
      "\n"
     ]
    },
    {
     "data": {
      "text/plain": [
       "c2_sum_by_c0 = [_c0: int, sum(_c2): double]\n"
      ]
     },
     "metadata": {},
     "output_type": "display_data"
    },
    {
     "data": {
      "text/plain": [
       "[_c0: int, sum(_c2): double]"
      ]
     },
     "execution_count": 22,
     "metadata": {},
     "output_type": "execute_result"
    }
   ],
   "source": [
    "val c2_sum_by_c0 = df.groupBy(\"_c0\").sum(\"_c2\")\n",
    "c2_sum_by_c0.show()"
   ]
  },
  {
   "cell_type": "code",
   "execution_count": 23,
   "metadata": {},
   "outputs": [
    {
     "name": "stdout",
     "output_type": "stream",
     "text": [
      "+---+--------+\n",
      "|_c0|max(_c2)|\n",
      "+---+--------+\n",
      "| 31|   98.58|\n",
      "| 85|   98.68|\n",
      "| 65|   98.53|\n",
      "| 53|   99.51|\n",
      "| 78|    98.4|\n",
      "| 34|   99.68|\n",
      "| 81|   99.08|\n",
      "| 28|   99.68|\n",
      "| 76|   97.91|\n",
      "| 27|   99.63|\n",
      "| 26|   97.34|\n",
      "| 44|   99.88|\n",
      "| 12|   98.74|\n",
      "| 91|   98.39|\n",
      "| 22|   99.07|\n",
      "| 93|   98.67|\n",
      "| 47|   99.74|\n",
      "|  1|    96.8|\n",
      "| 52|    99.4|\n",
      "| 13|   98.14|\n",
      "+---+--------+\n",
      "only showing top 20 rows\n",
      "\n"
     ]
    },
    {
     "data": {
      "text/plain": [
       "max_c2 = [_c0: int, max(_c2): double]\n"
      ]
     },
     "metadata": {},
     "output_type": "display_data"
    },
    {
     "data": {
      "text/plain": [
       "[_c0: int, max(_c2): double]"
      ]
     },
     "execution_count": 23,
     "metadata": {},
     "output_type": "execute_result"
    }
   ],
   "source": [
    "val max_c2 = df.groupBy(\"_c0\").max(\"_c2\")\n",
    "max_c2.show()"
   ]
  },
  {
   "cell_type": "code",
   "execution_count": 25,
   "metadata": {},
   "outputs": [
    {
     "name": "stdout",
     "output_type": "stream",
     "text": [
      "+---+--------+\n",
      "|_c0|min(_c2)|\n",
      "+---+--------+\n",
      "| 31|    0.38|\n",
      "| 85|    2.18|\n",
      "| 65|     0.1|\n",
      "| 53|    0.65|\n",
      "| 78|     1.2|\n",
      "| 34|    0.82|\n",
      "| 81|    0.51|\n",
      "| 28|    3.73|\n",
      "| 76|     0.0|\n",
      "| 27|    1.03|\n",
      "| 26|    0.71|\n",
      "| 44|    0.76|\n",
      "| 12|    1.02|\n",
      "| 91|    2.97|\n",
      "| 22|     1.1|\n",
      "| 93|    0.47|\n",
      "| 47|    0.31|\n",
      "|  1|     0.1|\n",
      "| 52|    0.17|\n",
      "| 13|    0.71|\n",
      "+---+--------+\n",
      "only showing top 20 rows\n",
      "\n"
     ]
    },
    {
     "data": {
      "text/plain": [
       "min_c2 = [_c0: int, min(_c2): double]\n"
      ]
     },
     "metadata": {},
     "output_type": "display_data"
    },
    {
     "data": {
      "text/plain": [
       "[_c0: int, min(_c2): double]"
      ]
     },
     "execution_count": 25,
     "metadata": {},
     "output_type": "execute_result"
    }
   ],
   "source": [
    "val min_c2 = df.groupBy(\"_c0\").min(\"_c2\")\n",
    "min_c2.show()"
   ]
  },
  {
   "cell_type": "code",
   "execution_count": 26,
   "metadata": {},
   "outputs": [
    {
     "name": "stdout",
     "output_type": "stream",
     "text": [
      "+---+------------------+\n",
      "|_c0|          avg(_c2)|\n",
      "+---+------------------+\n",
      "| 31|           47.6505|\n",
      "| 85| 52.41361904761905|\n",
      "| 65| 48.49386792452829|\n",
      "| 53|  52.6095744680851|\n",
      "| 78|51.414886363636356|\n",
      "| 34| 50.76952380952381|\n",
      "| 81| 50.12460784313725|\n",
      "| 28| 51.55371134020617|\n",
      "| 76|  53.3066304347826|\n",
      "| 27| 47.26817307692307|\n",
      "| 26| 46.05614035087719|\n",
      "| 44|51.705326086956504|\n",
      "| 12| 50.70206521739129|\n",
      "| 91|51.013846153846146|\n",
      "| 22|53.398404255319136|\n",
      "| 93|49.212616822429915|\n",
      "| 47|50.189534883720924|\n",
      "|  1| 44.67207207207208|\n",
      "| 52| 53.52102040816325|\n",
      "| 13|50.202528735632185|\n",
      "+---+------------------+\n",
      "only showing top 20 rows\n",
      "\n"
     ]
    },
    {
     "data": {
      "text/plain": [
       "avg_c2 = [_c0: int, avg(_c2): double]\n"
      ]
     },
     "metadata": {},
     "output_type": "display_data"
    },
    {
     "data": {
      "text/plain": [
       "[_c0: int, avg(_c2): double]"
      ]
     },
     "execution_count": 26,
     "metadata": {},
     "output_type": "execute_result"
    }
   ],
   "source": [
    "val avg_c2 = df.groupBy(\"_c0\").avg(\"_c2\")\n",
    "avg_c2.show()"
   ]
  },
  {
   "cell_type": "code",
   "execution_count": 28,
   "metadata": {},
   "outputs": [
    {
     "name": "stdout",
     "output_type": "stream",
     "text": [
      "+---+-----+\n",
      "|_c0|count|\n",
      "+---+-----+\n",
      "| 31|  100|\n",
      "| 85|  105|\n",
      "| 65|  106|\n",
      "| 53|   94|\n",
      "| 78|   88|\n",
      "| 34|  105|\n",
      "| 81|  102|\n",
      "| 28|   97|\n",
      "| 76|   92|\n",
      "| 27|  104|\n",
      "| 26|  114|\n",
      "| 44|   92|\n",
      "| 12|   92|\n",
      "| 91|   91|\n",
      "| 22|   94|\n",
      "| 93|  107|\n",
      "| 47|   86|\n",
      "|  1|  111|\n",
      "| 52|   98|\n",
      "| 13|   87|\n",
      "+---+-----+\n",
      "only showing top 20 rows\n",
      "\n"
     ]
    },
    {
     "data": {
      "text/plain": [
       "count_c0 = [_c0: int, count: bigint]\n"
      ]
     },
     "metadata": {},
     "output_type": "display_data"
    },
    {
     "data": {
      "text/plain": [
       "[_c0: int, count: bigint]"
      ]
     },
     "execution_count": 28,
     "metadata": {},
     "output_type": "execute_result"
    }
   ],
   "source": [
    "val count_c0 = df.groupBy(\"_c0\").count()\n",
    "count_c0.show()"
   ]
  },
  {
   "cell_type": "code",
   "execution_count": null,
   "metadata": {},
   "outputs": [],
   "source": []
  }
 ],
 "metadata": {
  "kernelspec": {
   "display_name": "Apache Toree - Scala",
   "language": "scala",
   "name": "apache_toree_scala"
  },
  "language_info": {
   "codemirror_mode": "text/x-scala",
   "file_extension": ".scala",
   "mimetype": "text/x-scala",
   "name": "scala",
   "pygments_lexer": "scala",
   "version": "2.11.12"
  }
 },
 "nbformat": 4,
 "nbformat_minor": 2
}
