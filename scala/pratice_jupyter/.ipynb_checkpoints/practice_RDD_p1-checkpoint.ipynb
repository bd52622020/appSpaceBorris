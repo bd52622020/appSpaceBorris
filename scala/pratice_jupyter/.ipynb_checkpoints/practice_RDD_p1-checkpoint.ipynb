{
 "cells": [
  {
   "cell_type": "code",
   "execution_count": 9,
   "metadata": {},
   "outputs": [
    {
     "data": {
      "text/plain": [
       "spark = org.apache.spark.sql.SparkSession@4506540d\n"
      ]
     },
     "metadata": {},
     "output_type": "display_data"
    },
    {
     "data": {
      "text/plain": [
       "org.apache.spark.sql.SparkSession@4506540d"
      ]
     },
     "execution_count": 9,
     "metadata": {},
     "output_type": "execute_result"
    }
   ],
   "source": [
    "import org.apache.spark.rdd.RDD\n",
    "\n",
    "val spark = SparkSession.builder().master(\"local[*]\")\n",
    "                                  .appName(\"spark_test\")\n",
    "                                  .getOrCreate()"
   ]
  },
  {
   "cell_type": "code",
   "execution_count": 10,
   "metadata": {},
   "outputs": [
    {
     "data": {
      "text/plain": [
       "rdd = ParallelCollectionRDD[23] at parallelize at <console>:35\n"
      ]
     },
     "metadata": {},
     "output_type": "display_data"
    },
    {
     "data": {
      "text/plain": [
       "ParallelCollectionRDD[23] at parallelize at <console>:35"
      ]
     },
     "execution_count": 10,
     "metadata": {},
     "output_type": "execute_result"
    }
   ],
   "source": [
    "val rdd = sc.parallelize(Array(1,2,3,4,5,6,7,8,9,10))"
   ]
  },
  {
   "cell_type": "code",
   "execution_count": 16,
   "metadata": {},
   "outputs": [
    {
     "data": {
      "text/plain": [
       "defined object RDDParallelize\n"
      ]
     },
     "metadata": {},
     "output_type": "display_data"
    }
   ],
   "source": [
    "object RDDParallelize{\n",
    "    \n",
    "    def main(args: Array[String]): Unit = {\n",
    "        val rdd:RDD[Int] = sc.parallelize(List(1,2,3,4,5,6,7,8,9))\n",
    "        val rddCollect:Array[Int] = rdd.collect()\n",
    "        println(\"Number of partitions: \" + rdd.getNumPartitions)\n",
    "        println(\"Action: First element:\" + rdd.first())\n",
    "        println(\"Action: RDD converted to Array[Int] : \")\n",
    "        rddCollect.foreach(println)\n",
    "    }\n",
    "}"
   ]
  },
  {
   "cell_type": "code",
   "execution_count": 15,
   "metadata": {
    "scrolled": true
   },
   "outputs": [
    {
     "name": "stdout",
     "output_type": "stream",
     "text": [
      "Number of partitions: 2\n",
      "Action: First element:1\n",
      "Action: RDD converted to Array[Int] : \n",
      "1\n",
      "2\n",
      "3\n",
      "4\n",
      "5\n",
      "6\n",
      "7\n",
      "8\n",
      "9\n"
     ]
    }
   ],
   "source": [
    "RDDParallelize.main(Array())"
   ]
  },
  {
   "cell_type": "code",
   "execution_count": 30,
   "metadata": {},
   "outputs": [
    {
     "data": {
      "text/plain": [
       "rdd = examples/book2.txt MapPartitionsRDD[11] at textFile at <console>:33\n"
      ]
     },
     "metadata": {},
     "output_type": "display_data"
    },
    {
     "data": {
      "text/plain": [
       "examples/book2.txt MapPartitionsRDD[11] at textFile at <console>:33"
      ]
     },
     "execution_count": 30,
     "metadata": {},
     "output_type": "execute_result"
    }
   ],
   "source": [
    "val rdd = sc.textFile(\"examples/book2.txt\")"
   ]
  },
  {
   "cell_type": "code",
   "execution_count": 34,
   "metadata": {},
   "outputs": [
    {
     "data": {
      "text/plain": [
       "rdd2 = MapPartitionsRDD[13] at flatMap at <console>:33\n"
      ]
     },
     "metadata": {},
     "output_type": "display_data"
    },
    {
     "data": {
      "text/plain": [
       "MapPartitionsRDD[13] at flatMap at <console>:33"
      ]
     },
     "execution_count": 34,
     "metadata": {},
     "output_type": "execute_result"
    }
   ],
   "source": [
    "val rdd2 = rdd.flatMap(line => line.split(\"\\\\W+\"))"
   ]
  },
  {
   "cell_type": "code",
   "execution_count": 36,
   "metadata": {
    "scrolled": true
   },
   "outputs": [
    {
     "data": {
      "text/plain": [
       "rdd3 = MapPartitionsRDD[14] at map at <console>:33\n"
      ]
     },
     "metadata": {},
     "output_type": "display_data"
    },
    {
     "data": {
      "text/plain": [
       "MapPartitionsRDD[14] at map at <console>:33"
      ]
     },
     "execution_count": 36,
     "metadata": {},
     "output_type": "execute_result"
    }
   ],
   "source": [
    "val rdd3 = rdd2.map(x => (x, 1))"
   ]
  },
  {
   "cell_type": "code",
   "execution_count": 47,
   "metadata": {},
   "outputs": [
    {
     "data": {
      "text/plain": [
       "rdd4 = ShuffledRDD[16] at reduceByKey at <console>:33\n"
      ]
     },
     "metadata": {},
     "output_type": "display_data"
    },
    {
     "data": {
      "text/plain": [
       "ShuffledRDD[16] at reduceByKey at <console>:33"
      ]
     },
     "execution_count": 47,
     "metadata": {},
     "output_type": "execute_result"
    }
   ],
   "source": [
    "val rdd4 = rdd3.reduceByKey((x, y) => x + y)"
   ]
  },
  {
   "cell_type": "code",
   "execution_count": 59,
   "metadata": {},
   "outputs": [
    {
     "data": {
      "text/plain": [
       "rdd5 = MapPartitionsRDD[21] at filter at <console>:33\n"
      ]
     },
     "metadata": {},
     "output_type": "display_data"
    },
    {
     "data": {
      "text/plain": [
       "MapPartitionsRDD[21] at filter at <console>:33"
      ]
     },
     "execution_count": 59,
     "metadata": {},
     "output_type": "execute_result"
    }
   ],
   "source": [
    "val rdd5 = rdd3.filter(a => a._1.startsWith(\"A\"))"
   ]
  },
  {
   "cell_type": "code",
   "execution_count": 43,
   "metadata": {},
   "outputs": [
    {
     "data": {
      "text/plain": [
       "Array(Self-Employment: Building an Internet Business of One, Achieving Financial and Personal Freedom through a Lifestyle Technology Business, By Frank Kane, \"\", \"\", \"\", \"Copyright © 2015 Frank Kane. \", All rights reserved worldwide., \"\", \"\", CONTENTS, Disclaimer, Preface, Part I: Making the Big Decision, Overcoming Inertia, Fear of Failure, Career Indoctrination, The Carrot on a Stick, Ego Protection, Your Employer as a Security Blanket, Why its Worth it, Unlimited Growth Potential, Investing in Yourself, Not Someone Else, No Dependencies, No Commute, Freedom to Live Where You Want, Freedom to Work When You Want, Freedom to Work How You Want, \"Is Self-Employment for You? \", \"Flowchart: Should I Even Consider Self-Employment? \", Having a Financial Safety Net, Pla..."
      ]
     },
     "execution_count": 43,
     "metadata": {},
     "output_type": "execute_result"
    }
   ],
   "source": [
    "rdd.collect()"
   ]
  },
  {
   "cell_type": "code",
   "execution_count": 38,
   "metadata": {},
   "outputs": [
    {
     "data": {
      "text/plain": [
       "Array(Self, Employment, Building, an, Internet, Business, of, One, Achieving, Financial, and, Personal, Freedom, through, a, Lifestyle, Technology, Business, By, Frank, Kane, \"\", \"\", \"\", Copyright, 2015, Frank, Kane, All, rights, reserved, worldwide, \"\", \"\", CONTENTS, Disclaimer, Preface, Part, I, Making, the, Big, Decision, Overcoming, Inertia, Fear, of, Failure, Career, Indoctrination, The, Carrot, on, a, Stick, Ego, Protection, Your, Employer, as, a, Security, Blanket, Why, it, s, Worth, it, Unlimited, Growth, Potential, Investing, in, Yourself, Not, Someone, Else, No, Dependencies, No, Commute, Freedom, to, Live, Where, You, Want, Freedom, to, Work, When, You, Want, Freedom, to, Work, How, You, Want, Is, Self, Employment, for, You, Flowchart, Should, I, Even, ..."
      ]
     },
     "execution_count": 38,
     "metadata": {},
     "output_type": "execute_result"
    }
   ],
   "source": [
    "rdd2.collect()"
   ]
  },
  {
   "cell_type": "code",
   "execution_count": 37,
   "metadata": {},
   "outputs": [
    {
     "data": {
      "text/plain": [
       "Array((Self,1), (Employment,1), (Building,1), (an,1), (Internet,1), (Business,1), (of,1), (One,1), (Achieving,1), (Financial,1), (and,1), (Personal,1), (Freedom,1), (through,1), (a,1), (Lifestyle,1), (Technology,1), (Business,1), (By,1), (Frank,1), (Kane,1), (\"\",1), (\"\",1), (\"\",1), (Copyright,1), (2015,1), (Frank,1), (Kane,1), (All,1), (rights,1), (reserved,1), (worldwide,1), (\"\",1), (\"\",1), (CONTENTS,1), (Disclaimer,1), (Preface,1), (Part,1), (I,1), (Making,1), (the,1), (Big,1), (Decision,1), (Overcoming,1), (Inertia,1), (Fear,1), (of,1), (Failure,1), (Career,1), (Indoctrination,1), (The,1), (Carrot,1), (on,1), (a,1), (Stick,1), (Ego,1), (Protection,1), (Your,1), (Employer,1), (as,1), (a,1), (Security,1), (Blanket,1), (Why,1), (it,1), (s,1), (Worth,1), (it..."
      ]
     },
     "execution_count": 37,
     "metadata": {},
     "output_type": "execute_result"
    }
   ],
   "source": [
    "rdd3.collect()"
   ]
  },
  {
   "cell_type": "code",
   "execution_count": 11,
   "metadata": {},
   "outputs": [
    {
     "data": {
      "text/plain": [
       "Array((transitions,1), (someone,59), (Unless,3), (ll,114), (intimately,1), (SEARCH,1), (312,1), (envelope,2), (surge,4), (order,32), (Figure,2), (handled,4), (behind,3), (conjure,1), (requiring,1), (been,25), (evaluating,2), (gap,2), (reserve,1), (clients,9), (risky,5), (offering,16), (knows,5), (wallets,1), (file,1), (afterward,1), (payment,2), (ignore,2), (Decision,1), (responsibilities,11), (DESCRIPTION,2), (are,401), (General,1), (tune,1), (optional,1), (plus,4), (IS,1), (copyrights,2), (orange,1), (monitoring,1), (completing,1), (tips,3), (Dartmouth,1), (rebel,1), (headline,4), (assessment,2), (scam,1), (stern,1), (000,24), (dead,1), (unimaginably,1), (Exactly,1), (screw,1), (AM,6), (competes,1), (divorced,1), (pursue,1), (them,166), (clarity,3), (cho..."
      ]
     },
     "execution_count": 11,
     "metadata": {},
     "output_type": "execute_result"
    }
   ],
   "source": [
    "rdd4.collect()"
   ]
  },
  {
   "cell_type": "code",
   "execution_count": 12,
   "metadata": {},
   "outputs": [
    {
     "data": {
      "text/plain": [
       "Array((Achieving,1), (All,1), (Assessment,1), (Agreement,1), (Alone,1), (Advertising,1), (Act,1), (Avoiding,1), (Advice,1), (Adapting,1), (Acknowledgments,1), (About,1), (Author,1), (American,1), (And,1), (AM,1), (At,1), (A,1), (AM,1), (According,1), (According,1), (Administration,1), (A,1), (Americans,1), (And,1), (As,1), (A,1), (Are,1), (Are,1), (As,1), (Are,1), (All,1), (And,1), (And,1), (And,1), (AS,1), (A,1), (And,1), (As,1), (And,1), (Another,1), (As,1), (After,1), (An,1), (An,1), (According,1), (American,1), (Austin,1), (A,1), (AM,1), (As,1), (As,1), (Although,1), (According,1), (American,1), (Association,1), (A,1), (A,1), (Assuming,1), (A,1), (And,1), (A,1), (And,1), (As,1), (Affordable,1), (Act,1), (As,1), (Ask,1), (ASSESSMENT,1), (An,1), (As,1), ..."
      ]
     },
     "execution_count": 12,
     "metadata": {},
     "output_type": "execute_result"
    }
   ],
   "source": [
    "rdd5.collect()"
   ]
  },
  {
   "cell_type": "code",
   "execution_count": null,
   "metadata": {},
   "outputs": [],
   "source": []
  }
 ],
 "metadata": {
  "kernelspec": {
   "display_name": "Apache Toree - Scala",
   "language": "scala",
   "name": "apache_toree_scala"
  },
  "language_info": {
   "codemirror_mode": "text/x-scala",
   "file_extension": ".scala",
   "mimetype": "text/x-scala",
   "name": "scala",
   "pygments_lexer": "scala",
   "version": "2.11.12"
  }
 },
 "nbformat": 4,
 "nbformat_minor": 2
}
