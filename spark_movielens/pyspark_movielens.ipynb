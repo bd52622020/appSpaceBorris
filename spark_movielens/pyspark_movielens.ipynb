{
 "cells": [
  {
   "cell_type": "code",
   "execution_count": 1,
   "metadata": {},
   "outputs": [],
   "source": [
    "from pyspark.sql.types import *\n",
    "from pyspark.sql.functions import *"
   ]
  },
  {
   "cell_type": "code",
   "execution_count": 2,
   "metadata": {},
   "outputs": [],
   "source": [
    "ratings = sc.textFile(\"ml-100k/u.data\").map(lambda line: line.split(\"\\t\"))\n",
    "movies = sc.textFile(\"ml-100k/u.item\").map(lambda line: line.split(\"|\"))\n",
    "users = sc.textFile(\"ml-100k/u.user\").map(lambda line: line.split(\"|\"))\n",
    "#genres = sc.textFile(\"ml-100k/u.genre\").map(lambda line: line.split(\"|\"))"
   ]
  },
  {
   "cell_type": "code",
   "execution_count": null,
   "metadata": {},
   "outputs": [],
   "source": []
  },
  {
   "cell_type": "code",
   "execution_count": 3,
   "metadata": {},
   "outputs": [],
   "source": [
    "ratings_Schema= StructType([StructField(\"user id\", StringType(), True),\n",
    "                            StructField(\"item id\", StringType(), True),\n",
    "                            StructField(\"rating\", StringType(), True),\n",
    "                            StructField(\"timestamp\", StringType(), True)])\n",
    "movies_Schema= StructType([StructField(\"movie id\", StringType(), True),\n",
    "                           StructField(\"movie title\", StringType(), True),\n",
    "                           StructField(\"release date\", StringType(), True),\n",
    "                           StructField(\"video release date\", StringType(), True),\n",
    "                           StructField(\"IMBd URL\", StringType(), True),\n",
    "                           StructField(\"unknown\", StringType(), True),\n",
    "                           StructField(\"action\", StringType(), True),\n",
    "                           StructField(\"adventure\", StringType(), True),\n",
    "                           StructField(\"animation\", StringType(), True),\n",
    "                           StructField(\"Childen's\", StringType(), True),\n",
    "                           StructField(\"comedy\", StringType(), True),\n",
    "                           StructField(\"crime\", StringType(), True),\n",
    "                           StructField(\"documentary\", StringType(), True),\n",
    "                           StructField(\"drama\", StringType(), True),\n",
    "                           StructField(\"fantasy\", StringType(), True),\n",
    "                           StructField(\"film-noir\", StringType(), True),\n",
    "                           StructField(\"horror\", StringType(), True),\n",
    "                           StructField(\"musical\", StringType(), True),\n",
    "                           StructField(\"mystery\", StringType(), True),\n",
    "                           StructField(\"romance\", StringType(), True),\n",
    "                           StructField(\"sci-fi\", StringType(), True),\n",
    "                           StructField(\"thriller\", StringType(), True),\n",
    "                           StructField(\"war\", StringType(), True),\n",
    "                           StructField(\"western\", StringType(), True)])\n",
    "users_Schema= StructType([StructField(\"user id\", StringType(), True),\n",
    "                          StructField(\"age\", StringType(), True),\n",
    "                          StructField(\"gender\", StringType(), True),\n",
    "                          StructField(\"occupation\", StringType(), True),\n",
    "                          StructField(\"zip code\", StringType(), True)])"
   ]
  },
  {
   "cell_type": "code",
   "execution_count": 21,
   "metadata": {},
   "outputs": [],
   "source": [
    "ratings_df = spark.createDataFrame(ratings, ratings_Schema)\n",
    "movies_df = spark.createDataFrame(movies, movies_Schema)\n",
    "users_df = spark.createDataFrame(users, users_Schema)"
   ]
  },
  {
   "cell_type": "code",
   "execution_count": 4,
   "metadata": {},
   "outputs": [],
   "source": [
    "def parseInput(line):\n",
    "    fields = line.split(\"\\t\")\n",
    "    return (int(fields[1]), (float(fields[2]), 1.0))\n",
    "\n",
    "def loadMovieNames():\n",
    "    movieNames = {}\n",
    "    with open(\"ml-100k/u.item\") as f:\n",
    "        for line in f:\n",
    "            fields = line.split('|')\n",
    "            movieNames[int(fields[0])] = fields[1]\n",
    "    return movieNames"
   ]
  },
  {
   "cell_type": "markdown",
   "metadata": {},
   "source": [
    "# 1-2) Print top 10 movies by ratings"
   ]
  },
  {
   "cell_type": "code",
   "execution_count": 22,
   "metadata": {
    "scrolled": true
   },
   "outputs": [
    {
     "name": "stdout",
     "output_type": "stream",
     "text": [
      "Santa with Muscles (1996) 5.0\n",
      "Great Day in Harlem, A (1994) 5.0\n",
      "Aiqing wansui (1994) 5.0\n",
      "They Made Me a Criminal (1939) 5.0\n",
      "Prefontaine (1997) 5.0\n",
      "Star Kid (1997) 5.0\n",
      "Someone Else's America (1995) 5.0\n",
      "Entertaining Angels: The Dorothy Day Story (1996) 5.0\n",
      "Saint of Fort Washington, The (1993) 5.0\n",
      "Marlene Dietrich: Shadow and Light (1996)  5.0\n"
     ]
    }
   ],
   "source": [
    "lines = sc.textFile(\"ml-100k/u.data\")\n",
    "df = lines.map(parseInput)\n",
    "df2 = df.reduceByKey(lambda m1, m2: (m1[0] + m2[0], m1[1] + m2[1]))\n",
    "df3 = df2.mapValues(lambda total_and_count: total_and_count[0] / total_and_count[1])\n",
    "df4 = df3.sortBy(lambda x : -x[1])\n",
    "df5 = df4.take(10)\n",
    "movieNames = loadMovieNames()\n",
    "for result in df5:\n",
    "    print(movieNames[result[0]], result[1])"
   ]
  },
  {
   "cell_type": "code",
   "execution_count": null,
   "metadata": {},
   "outputs": [],
   "source": []
  },
  {
   "cell_type": "code",
   "execution_count": 198,
   "metadata": {},
   "outputs": [
    {
     "name": "stdout",
     "output_type": "stream",
     "text": [
      "+-------+-------+------+---------+\n",
      "|user id|item id|rating|timestamp|\n",
      "+-------+-------+------+---------+\n",
      "|    196|    242|     3|881250949|\n",
      "|    186|    302|     3|891717742|\n",
      "|     22|    377|     1|878887116|\n",
      "|    244|     51|     2|880606923|\n",
      "|    166|    346|     1|886397596|\n",
      "|    298|    474|     4|884182806|\n",
      "|    115|    265|     2|881171488|\n",
      "|    253|    465|     5|891628467|\n",
      "|    305|    451|     3|886324817|\n",
      "|      6|     86|     3|883603013|\n",
      "|     62|    257|     2|879372434|\n",
      "|    286|   1014|     5|879781125|\n",
      "|    200|    222|     5|876042340|\n",
      "|    210|     40|     3|891035994|\n",
      "|    224|     29|     3|888104457|\n",
      "|    303|    785|     3|879485318|\n",
      "|    122|    387|     5|879270459|\n",
      "|    194|    274|     2|879539794|\n",
      "|    291|   1042|     4|874834944|\n",
      "|    234|   1184|     2|892079237|\n",
      "+-------+-------+------+---------+\n",
      "only showing top 20 rows\n",
      "\n"
     ]
    }
   ],
   "source": [
    "ratings_df.show()"
   ]
  },
  {
   "cell_type": "code",
   "execution_count": null,
   "metadata": {},
   "outputs": [],
   "source": []
  }
 ],
 "metadata": {
  "kernelspec": {
   "display_name": "Python 3",
   "language": "python",
   "name": "python3"
  },
  "language_info": {
   "codemirror_mode": {
    "name": "ipython",
    "version": 3
   },
   "file_extension": ".py",
   "mimetype": "text/x-python",
   "name": "python",
   "nbconvert_exporter": "python",
   "pygments_lexer": "ipython3",
   "version": "3.6.9"
  }
 },
 "nbformat": 4,
 "nbformat_minor": 2
}
