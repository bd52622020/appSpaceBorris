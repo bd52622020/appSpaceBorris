{
 "cells": [
  {
   "cell_type": "code",
   "execution_count": 39,
   "metadata": {},
   "outputs": [],
   "source": [
    "from pyspark.sql.types import *\n",
    "from pyspark.sql.functions import * \n",
    "from pyspark.sql.types import Row"
   ]
  },
  {
   "cell_type": "code",
   "execution_count": 2,
   "metadata": {},
   "outputs": [],
   "source": [
    "ratings = sc.textFile(\"ml-100k/u.data\").map(lambda line: line.split(\"\\t\"))\n",
    "movies = sc.textFile(\"ml-100k/u.item\").map(lambda line: line.split(\"|\"))\n",
    "users = sc.textFile(\"ml-100k/u.user\").map(lambda line: line.split(\"|\"))\n",
    "#genres = sc.textFile(\"ml-100k/u.genre\").map(lambda line: line.split(\"|\"))"
   ]
  },
  {
   "cell_type": "code",
   "execution_count": 29,
   "metadata": {},
   "outputs": [],
   "source": [
    "ratings_line = sc.textFile(\"ml-100k/u.data\")\n",
    "movies_line = sc.textFile(\"ml-100k/u.item\")\n",
    "users_line = sc.textFile(\"ml-100k/u.user\")"
   ]
  },
  {
   "cell_type": "code",
   "execution_count": 54,
   "metadata": {},
   "outputs": [],
   "source": [
    "ratings_Schema= StructType([StructField(\"user id\", StringType(), True),\n",
    "                            StructField(\"item id\", StringType(), True),\n",
    "                            StructField(\"rating\", StringType(), True),\n",
    "                            StructField(\"timestamp\", StringType(), True)])\n",
    "movies_Schema= StructType([StructField(\"movie id\", StringType(), True),\n",
    "                           StructField(\"movie title\", StringType(), True),\n",
    "                           StructField(\"release date\", StringType(), True),\n",
    "                           StructField(\"video release date\", StringType(), True),\n",
    "                           StructField(\"IMBd URL\", StringType(), True),\n",
    "                           StructField(\"unknown\", StringType(), True),\n",
    "                           StructField(\"action\", StringType(), True),\n",
    "                           StructField(\"adventure\", StringType(), True),\n",
    "                           StructField(\"animation\", StringType(), True),\n",
    "                           StructField(\"Childen's\", StringType(), True),\n",
    "                           StructField(\"comedy\", StringType(), True),\n",
    "                           StructField(\"crime\", StringType(), True),\n",
    "                           StructField(\"documentary\", StringType(), True),\n",
    "                           StructField(\"drama\", StringType(), True),\n",
    "                           StructField(\"fantasy\", StringType(), True),\n",
    "                           StructField(\"film-noir\", StringType(), True),\n",
    "                           StructField(\"horror\", StringType(), True),\n",
    "                           StructField(\"musical\", StringType(), True),\n",
    "                           StructField(\"mystery\", StringType(), True),\n",
    "                           StructField(\"romance\", StringType(), True),\n",
    "                           StructField(\"sci-fi\", StringType(), True),\n",
    "                           StructField(\"thriller\", StringType(), True),\n",
    "                           StructField(\"war\", StringType(), True),\n",
    "                           StructField(\"western\", StringType(), True)])\n",
    "users_Schema= StructType([StructField(\"user id\", StringType(), True),\n",
    "                          StructField(\"age\", StringType(), True),\n",
    "                          StructField(\"gender\", StringType(), True),\n",
    "                          StructField(\"occupation\", StringType(), True),\n",
    "                          StructField(\"zip code\", StringType(), True)])"
   ]
  },
  {
   "cell_type": "code",
   "execution_count": 58,
   "metadata": {},
   "outputs": [],
   "source": [
    "ratings_df = spark.createDataFrame(ratings, ratings_Schema).alias(\"ratings_df\")\n",
    "movies_df = spark.createDataFrame(movies, movies_Schema)\n",
    "users_df = spark.createDataFrame(users, users_Schema)"
   ]
  },
  {
   "cell_type": "code",
   "execution_count": 59,
   "metadata": {},
   "outputs": [],
   "source": [
    "def loadMovieNames():\n",
    "    movieNames = {}\n",
    "    with open(\"ml-100k/u.item\") as f:\n",
    "        for line in f:\n",
    "            fields = line.split('|')\n",
    "            movieNames[int(fields[0])] = fields[1]\n",
    "    return movieNames\n",
    "\n",
    "def parse_movie_genres(line):\n",
    "    row = line.split(\"|\")\n",
    "    return Row(movie_id=int(row[0]), movie_title=row[1], uknown=int(row[5]), action=int(row[6]), adventure=int(row[7]), animation=int(row[8]), children=int(row[9]), comedy=int(row[10]), crime=int(row[11]), documentary=int(row[12]), fantasy=int(row[13]), film_noir=int(row[14]), horror=int(row[15]), musical=int(row[16]), mystery=int(row[17]), romance=int(row[18]), sci_fi=int(row[19]), thriller=int(row[20]), war=int(row[21]), western=int(row[22]))"
   ]
  },
  {
   "cell_type": "markdown",
   "metadata": {},
   "source": [
    "# 1-2) Print top 10 movies by ratings"
   ]
  },
  {
   "cell_type": "code",
   "execution_count": 60,
   "metadata": {},
   "outputs": [
    {
     "name": "stdout",
     "output_type": "stream",
     "text": [
      "Mission: Impossible (1996) 737\n",
      "Stand by Me (1986) 685\n",
      "Mighty Aphrodite (1995) 636\n",
      "Star Trek V: The Final Frontier (1989) 540\n",
      "Leaving Las Vegas (1995) 518\n",
      "Old Yeller (1957) 493\n",
      "My Own Private Idaho (1991) 490\n",
      "Ulee's Gold (1997) 484\n",
      "Jaws (1975) 480\n",
      "Mrs. Doubtfire (1993) 448\n"
     ]
    }
   ],
   "source": [
    "movieNames = loadMovieNames()\n",
    "df = ratings_df.withColumn(\"counter\", lit(1))\n",
    "df2 = df.withColumn(\"user id\",df[\"user id\"].cast(IntegerType()))\n",
    "df3 = df2.groupBy(\"user id\").sum(\"counter\")\n",
    "df4 = df3.sort(\"sum(counter)\", ascending=False).take(10)\n",
    "for result in df4:\n",
    "    print(movieNames[result[0]], result[1])"
   ]
  },
  {
   "cell_type": "markdown",
   "metadata": {},
   "source": [
    "# 3) Print list of the number of ratings by genre"
   ]
  },
  {
   "cell_type": "code",
   "execution_count": 66,
   "metadata": {
    "scrolled": true
   },
   "outputs": [
    {
     "data": {
      "text/plain": [
       "[Row(sum(action)=25589, sum(adventure)=13753, sum(animation)=3605, sum(children)=7182, sum(comedy)=29832, sum(crime)=8055, sum(documentary)=758, sum(fantasy)=39895, sum(film_noir)=1352, sum(horror)=1733, sum(movie_id)=42553013, sum(musical)=5317, sum(mystery)=4954, sum(romance)=5245, sum(sci_fi)=19461, sum(thriller)=12730, sum(uknown)=10, sum(war)=21872, sum(western)=9398)]"
      ]
     },
     "execution_count": 66,
     "metadata": {},
     "output_type": "execute_result"
    }
   ],
   "source": [
    "df = movies_line.map(parse_movie_genres)\n",
    "df2 = spark.createDataFrame(df).alias(\"movies_genres\")\n",
    "df3 = df2.join(ratings_df, df2.movie_id == ratings_df[\"item id\"])\n",
    "df3.groupBy().sum().take(10)"
   ]
  },
  {
   "cell_type": "markdown",
   "metadata": {},
   "source": [
    "# 4) Print the oldest movie with a \"5\" rating"
   ]
  },
  {
   "cell_type": "code",
   "execution_count": 140,
   "metadata": {
    "scrolled": true
   },
   "outputs": [
    {
     "data": {
      "text/plain": [
       "[Row(movie id='675', movie title='Nosferatu (Nosferatu, eine Symphonie des Grauens) (1922)', release date=datetime.date(1922, 1, 1), item id='675', rating='5')]"
      ]
     },
     "execution_count": 140,
     "metadata": {},
     "output_type": "execute_result"
    }
   ],
   "source": [
    "df = movies_df[[\"movie id\", \"movie title\", \"release date\"]]\n",
    "df2 = df.withColumn(\"release date\",to_date(df[\"release date\"], \"dd-MMM-yyyy\"))\n",
    "rating = ratings_df[[\"item id\", \"rating\"]].filter(col(\"rating\") == 5)\n",
    "df3 = df2.join(rating, rating[\"item id\"] == df3[\"movie id\"])\n",
    "df4 = df3.orderBy(\"release date\", ascending=True).where(df3[\"release date\"].isNotNull()).take(1)\n",
    "df4"
   ]
  },
  {
   "cell_type": "markdown",
   "metadata": {},
   "source": [
    "# 5) Print a list of the genres of the top 10 most rated movies"
   ]
  },
  {
   "cell_type": "code",
   "execution_count": 144,
   "metadata": {},
   "outputs": [],
   "source": [
    "df = ratings_df.withColumn(\"counter\", lit(1))\n",
    "df2 = df.withColumn(\"user id\",df[\"user id\"].cast(IntegerType()))\n",
    "df3 = df2.groupBy(\"user id\").sum(\"counter\")\n",
    "df4 = df3.sort(\"sum(counter)\", ascending=False).take(10)"
   ]
  },
  {
   "cell_type": "code",
   "execution_count": 146,
   "metadata": {},
   "outputs": [
    {
     "data": {
      "text/plain": [
       "[Row(user id=405, sum(counter)=737),\n",
       " Row(user id=655, sum(counter)=685),\n",
       " Row(user id=13, sum(counter)=636),\n",
       " Row(user id=450, sum(counter)=540),\n",
       " Row(user id=276, sum(counter)=518),\n",
       " Row(user id=416, sum(counter)=493),\n",
       " Row(user id=537, sum(counter)=490),\n",
       " Row(user id=303, sum(counter)=484),\n",
       " Row(user id=234, sum(counter)=480),\n",
       " Row(user id=393, sum(counter)=448)]"
      ]
     },
     "execution_count": 146,
     "metadata": {},
     "output_type": "execute_result"
    }
   ],
   "source": [
    "df4"
   ]
  },
  {
   "cell_type": "code",
   "execution_count": null,
   "metadata": {},
   "outputs": [],
   "source": []
  }
 ],
 "metadata": {
  "kernelspec": {
   "display_name": "Python 3",
   "language": "python",
   "name": "python3"
  }
 },
 "nbformat": 4,
 "nbformat_minor": 2
}
